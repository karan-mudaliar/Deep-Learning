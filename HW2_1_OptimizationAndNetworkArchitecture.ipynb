{
  "cells": [
    {
      "cell_type": "markdown",
      "id": "1h9cNT1gWQOD",
      "metadata": {
        "id": "1h9cNT1gWQOD"
      },
      "source": [
        "This can be run [run on Google Colab using this link](https://colab.research.google.com/github/CS7150/CS7150-Homework-2/blob/main/HW2_1_OptimizationAndNetworkArchitecture.ipynb)\n",
        "\n",
        "<font size='6'>**Homework 2.1: Training a Deep Network**</font>"
      ]
    },
    {
      "cell_type": "markdown",
      "id": "990bbb32",
      "metadata": {
        "id": "990bbb32"
      },
      "source": [
        "# Overview\n",
        "\n",
        "We will start by exploring the optimization aspects of deep network training. Throughout this journey, you will gain insights into:\n",
        "\n",
        "**Part 1:**\n",
        "- The fundamentals of simple gradient descent.\n",
        "- The concept of weight decay.\n",
        "- A deep understanding of PyTorch autograd and PyTorch optimizers.\n",
        "\n",
        "**Part 2:**\n",
        "- Analyzing raw gradients, means, and RMS (Root Mean Square).\n",
        "- Delving into exponential moving averages.\n",
        "- Exploring the workings of the ADAM optimization algorithm.\n",
        "\n",
        "**Part 3:**\n",
        "- Strategies for optimizing neural network parameters.\n",
        "- Selecting appropriate nonlinearities, architectures, and layers to tackle the vanishing gradient problem.\n",
        "- Leveraging techniques like regularization, parameterization, and specific layer choices to enhance generalization.\n",
        "- Unpacking the roles and impacts of ADAM, ReLU activation, weight decay, network depth, network width, residual architectures, and batch normalization in deep learning."
      ]
    },
    {
      "cell_type": "markdown",
      "id": "XhztdqIaXIND",
      "metadata": {
        "id": "XhztdqIaXIND"
      },
      "source": [
        "#Note\n",
        "\n",
        "<font size='4'>  \n",
        "- **You do not need to tune hyper parameters in the regular tasks.**\n",
        "\n",
        "- **You do not install any additional packages inside the Colab environment.**  \n",
        "\n",
        "- **If you collaborate or get assistance from classmates, online resources, AI, or other sources, then you must then you must explicitly write down the sources that you used to credit them.**\n",
        "\n",
        "- **Attend office hours and make post on Piazza if you have any questions.**\n",
        "\n",
        "- **You have sufficient time to work on this assignment. Please refrain from asking for extensions.**\n",
        "\n",
        "</font>\n"
      ]
    },
    {
      "cell_type": "markdown",
      "id": "01e9e753",
      "metadata": {
        "id": "01e9e753"
      },
      "source": [
        "<font size='5'>**Setup**</font>"
      ]
    },
    {
      "cell_type": "code",
      "execution_count": 2,
      "id": "014ada4e",
      "metadata": {
        "id": "014ada4e"
      },
      "outputs": [],
      "source": [
        "# Import Libraries\n",
        "\n",
        "import torch\n",
        "import numpy as np\n",
        "import torch.nn as nn\n",
        "import torch.optim as optim\n",
        "import matplotlib\n",
        "from torch.nn import Sequential, Module\n",
        "from matplotlib import pyplot as plt\n",
        "from scipy.stats import norm\n",
        "from hw2utils import LossFunctionWithPlot, ConstantVectorNetwork"
      ]
    },
    {
      "cell_type": "markdown",
      "id": "Uf6xtuLHB3wc",
      "metadata": {
        "id": "Uf6xtuLHB3wc"
      },
      "source": [
        "<font size='5'>**Part 1: Simple Gradient Descent**</font>\n"
      ]
    },
    {
      "cell_type": "markdown",
      "id": "hiUTm2E_xdq3",
      "metadata": {
        "id": "hiUTm2E_xdq3"
      },
      "source": [
        "Gradient descent is an iterative optimization algorithm for finding the minimum of a function. It works by starting at a point and then moving in the direction of the steepest descent until it reaches a minimum. The steepest descent is the direction in which the function is decreasing most rapidly.\n",
        "\n",
        "To train a model using gradient descent, we start with a set of initial parameters. These parameters are the values of the variables in the model. We then repeatedly apply gradient descent to update the parameters. Each update moves the parameters in the direction of the steepest descent. This continues until the parameters converge to a minimum of the function.\n",
        "\n",
        "The choice of the learning rate is important for gradient descent. The learning rate is the size of the steps that are taken in the direction of the steepest descent. If the learning rate is too small, the algorithm will converge slowly. If the learning rate is too large, the algorithm may diverge and never converge.\n",
        "\n",
        "Let's say we have a function $\\mathcal{L}(x)$ that we want to minimize. The gradient of $\\mathcal{L}(x)$ is a vector that points in the direction of the steepest descent of $f(x)$. The gradient can be calculated using the following equation:\n",
        "\n",
        "\\begin{align*}\n",
        "\\nabla \\mathcal{L}(x) &= \\begin{bmatrix}\n",
        "\\frac{\\partial \\mathcal{L}(x)}{\\partial x_1} \\\\\n",
        "\\frac{\\partial \\mathcal{L}(x)}{\\partial x_2} \\\\\n",
        "\\vdots \\\\\n",
        "\\frac{\\partial \\mathcal{L}(x)}{\\partial x_n}\n",
        "\\end{bmatrix} \\\\\n",
        "\\end{align*}\n",
        "\n",
        "The gradient descent algorithm can be used to minimize f(x) by repeatedly taking steps in the direction of the gradient. The update rule for gradient descent is given by the following equation:\n",
        "\n",
        "\\begin{equation}\n",
        "x_\\text{new} = x_\\text{old} - \\alpha \\cdot \\nabla \\mathcal{L}(x_\\text{old})\n",
        "\\end{equation}\n",
        "\n",
        "where $x_\\text{old}$ is the current value of $x$, $x_\\text{new}$ is the new value of $x$, $\\alpha$ is the learning rate, and $\\nabla \\mathcal{L}(x_\\text{old})$ is the gradient of $\\mathcal{L}(x)$ evaluated at $x_\\text{old}$."
      ]
    },
    {
      "cell_type": "markdown",
      "id": "RvUUakmqt9Jr",
      "metadata": {
        "id": "RvUUakmqt9Jr"
      },
      "source": [
        "<font size='4'>**Simple Implementation of Gradient Descent on a quadratic loss**</font>\n",
        "\n",
        "Below we demonstrate gradient descent optimization in action.\n",
        "\n",
        "We iteratively update the `x` to try to minimize a quadratic function `L` defined by the `LossFunctionWithPlot` class. The trajectory of updates and corresponding losses are stored and plotted to visualize the optimization progress.\n",
        "\n",
        "Provide an implementation of simple gradient descent below.  In 21 steps you can make the loss go down to about 3 or better, and drive `x` somewhat towards the center of the minimum of the loss function.\n",
        "\n",
        " * Use `loss.backward()` (read https://pytorch.org/docs/stable/generated/torch.Tensor.backward.html)\n",
        " * Use `x.grad` to get the gradient.\n",
        " * Update `x` in-place using `x -= `*something*, and know why `torch.no_grad()` is needed.\n",
        " * Understand why gradients need to be zeroed: https://stackoverflow.com/questions/48001598/why-do-we-need-to-call-zero-grad-in-pytorch\n"
      ]
    },
    {
      "cell_type": "markdown",
      "id": "y93nIjxHcbmW",
      "metadata": {
        "id": "y93nIjxHcbmW"
      },
      "source": [
        "<font size='4' color='Red'>Task 1.1 - Implement simple gradient descent ( 1 point)</font>"
      ]
    },
    {
      "cell_type": "code",
      "execution_count": 6,
      "id": "6f0c5514",
      "metadata": {
        "id": "6f0c5514",
        "outputId": "bb9ca3b0-ec9c-4364-a548-e5bd0a8f3c95",
        "colab": {
          "base_uri": "https://localhost:8080/",
          "height": 623
        }
      },
      "outputs": [
        {
          "output_type": "stream",
          "name": "stdout",
          "text": [
            "Loss at step 0 is 3.937\n",
            "Loss at step 7 is 0.126\n",
            "Loss at step 14 is 0.293\n",
            "Loss at step 21 is 0.282\n",
            "Loss at step 28 is 0.283\n",
            "Loss at step 35 is 0.283\n",
            "Loss at step 42 is 0.283\n",
            "Loss at step 49 is 0.283\n"
          ]
        },
        {
          "output_type": "display_data",
          "data": {
            "text/plain": [
              "<Figure size 1200x500 with 2 Axes>"
            ],
            "image/png": "[encoded data removed]"
          },
          "metadata": {}
        }
      ],
      "source": [
        "# Do not change the starting x.\n",
        "x = torch.tensor([-1.5, 1.2])\n",
        "x.requires_grad = True\n",
        "L = LossFunctionWithPlot()\n",
        "\n",
        "# Start by using a learning rate of 0.1.\n",
        "learning_rate = 0.1\n",
        "\n",
        "for iter in range(50):\n",
        "    loss = L(x)\n",
        "    if iter % 7 == 0: print(f'Loss at step {iter} is {loss.item():.3f}')\n",
        "    loss.backward()\n",
        "    with torch.no_grad():\n",
        "    ############################################################################\n",
        "    # TODO: Implement Simple Gradient Descent and update variable 'x'\n",
        "    # Read Documentation to compute a gradient of a parameter -\n",
        "    # https://pytorch.org/docs/stable/autograd.html\n",
        "    ############################################################################\n",
        "      x -= learning_rate*x.grad\n",
        "    ############################################################################\n",
        "    #                             END OF YOUR CODE                             #\n",
        "    ############################################################################\n",
        "    x.grad = None\n",
        "L.plot_history()"
      ]
    },
    {
      "cell_type": "markdown",
      "id": "Xj3S0GHWFshy",
      "metadata": {
        "id": "Xj3S0GHWFshy"
      },
      "source": [
        "One reason it is hard for gradient descent to move towards the bottom of the bowl is that there is no single ideal learning rate for all dimensions.  In the problem in 1.1, notice that:\n",
        " * the loss changes direction very quickly (the curvature is high) in the horiztonal direction of `x[0]`\n",
        " * the loss is very slow-changing (the curvature is lower) in the vertical direction of `x[1]`.\n",
        "\n",
        "The \"sawtooth\" loss curves and the \"zig-zag\" paths are symptoms of an optimizer that is taking steps that are too large: the path could be repeatedly jumping over a valley in the loss surface and ending up at another point of high, or even higher loss.  A lower learning rate can help, but it can lead to another problem. (What problem?  Try it.)\n",
        "\n",
        "Another fancy idea is to mix learning rates, with different learning rates for each parameter.  Although you can still make a learning rate too high or too low."
      ]
    },
    {
      "cell_type": "markdown",
      "id": "BeC54gE4dJX8",
      "metadata": {
        "id": "BeC54gE4dJX8"
      },
      "source": [
        "<font size='4' color='red'> Task 1.2 - Explore Simple Gradient Descent using various learning rates (_ points)</font>\n",
        "\n",
        "Now copy your code from 1.1 below here, but **experiment with learning rates**, including **unequal learning rates** for `x[0]` and `x[1]` by setting to a tensor with two values.  Try to find a pair of learning rates that move $x$ to the bottom of the bowl and stays there with near-zero loss."
      ]
    },
    {
      "cell_type": "code",
      "execution_count": 15,
      "id": "1bb536b7",
      "metadata": {
        "id": "1bb536b7",
        "outputId": "597b5419-8784-48d0-b7ff-fb6a2e347199",
        "colab": {
          "base_uri": "https://localhost:8080/",
          "height": 623
        }
      },
      "outputs": [
        {
          "output_type": "stream",
          "name": "stdout",
          "text": [
            "Loss at step 0 is 3.937\n",
            "Loss at step 7 is 1.441\n",
            "Loss at step 14 is 0.161\n",
            "Loss at step 21 is 0.177\n",
            "Loss at step 28 is 0.178\n",
            "Loss at step 35 is 0.179\n",
            "Loss at step 42 is 0.179\n",
            "Loss at step 49 is 0.179\n"
          ]
        },
        {
          "output_type": "display_data",
          "data": {
            "text/plain": [
              "<Figure size 1200x500 with 2 Axes>"
            ],
            "image/png": "[encoded data removed]"
          },
          "metadata": {}
        }
      ],
      "source": [
        "################################################################################\n",
        "# TODO: Copy your solution from Task 1.1 here and attempt to discover a pair of\n",
        "# learning rates that guide the optimization process to place 'x' at the lowest\n",
        "#point of the bowl and maintain it there with a nearly zero loss.\n",
        "################################################################################\n",
        "# Do not change the starting x.\n",
        "x = torch.tensor([-1.5, 1.2])\n",
        "x.requires_grad = True\n",
        "L = LossFunctionWithPlot()\n",
        "\n",
        "# Start by using a learning rate of 0.1.\n",
        "learning_rate = torch.tensor([0.05, 0.7])\n",
        "\n",
        "for iter in range(50):\n",
        "    loss = L(x)\n",
        "    if iter % 7 == 0: print(f'Loss at step {iter} is {loss.item():.3f}')\n",
        "    loss.backward()\n",
        "    with torch.no_grad():\n",
        "    ############################################################################\n",
        "    # TODO: Implement Simple Gradient Descent and update variable 'x'\n",
        "    # Read Documentation to compute a gradient of a parameter -\n",
        "    # https://pytorch.org/docs/stable/autograd.html\n",
        "    ############################################################################\n",
        "      x -= learning_rate * x.grad\n",
        "    ############################################################################\n",
        "    #                             END OF YOUR CODE                             #\n",
        "    ############################################################################\n",
        "    x.grad = None\n",
        "L.plot_history()\n",
        "\n",
        "###########################################################################\n",
        "#                             END OF YOUR CODE                            #\n",
        "###########################################################################"
      ]
    },
    {
      "cell_type": "markdown",
      "id": "I2fobwBkxhUQ",
      "metadata": {
        "id": "I2fobwBkxhUQ"
      },
      "source": [
        "<font size='4' color='red'>**Inline Question 1.A ( 1 point ):** What bad things tend to happen when the learning rate is too high? </font>\n",
        "\n",
        "**Answer**:\n",
        "\n",
        "$$\\text{When the learning rate is too high } \\fbox{write what tends to happen}$$"
      ]
    },
    {
      "cell_type": "markdown",
      "id": "z-fRCfY5xrYe",
      "metadata": {
        "id": "z-fRCfY5xrYe"
      },
      "source": [
        "<font size='4' color='red'>**Inline Question 1.B ( 1 point ):**  What bad things tend to happen when the learning rate is too low?</font>\n",
        "\n",
        "**Answer**:\n",
        "\n",
        "$$\\text{When the learning rate is too low } \\fbox{write what tends to happen}$$"
      ]
    },
    {
      "cell_type": "markdown",
      "id": "e5574269",
      "metadata": {
        "id": "e5574269"
      },
      "source": [
        "<font size='4' color='red'>**Inline Question 1.C (1 point):**  Should a higher or lower learning rate be used on a dimension with higher curvature (with sharper changes)?</font>\n",
        "\n",
        "**Answer**:\n",
        "\n",
        "$$\\text{When the dimension has higher curvature, the learning rate should generally be } \\fbox{fill in higher or lower}$$"
      ]
    },
    {
      "cell_type": "markdown",
      "id": "B9CrZHsUOEll",
      "metadata": {
        "id": "B9CrZHsUOEll"
      },
      "source": [
        "<font size='4'>**II) Weight Decay, aka L2 regularization**</font>"
      ]
    },
    {
      "cell_type": "markdown",
      "id": "0QAUkEMPKa5b",
      "metadata": {
        "id": "0QAUkEMPKa5b"
      },
      "source": [
        "Weight decay, aslo known as L2 regularization, adds the following term to the total loss:\n",
        "\n",
        "\\begin{equation}\n",
        "\\mathcal{L}(\\theta) = \\mathcal{L}_\\text{objective}(\\theta) + \\frac{\\lambda}{2\\nu} |\\theta|^2\n",
        "\\end{equation}\n",
        "\n",
        "where:\n",
        "\n",
        "- $\\mathcal{L}(\\theta)$ - is the regularized objective function.\n",
        "- $\\mathcal{L}_\\text{objective}(\\theta)$ - is the original objective function (without regularization).\n",
        "- $\\theta$ is the vector of model parameters.\n",
        "- $\\lambda$ is the regularization parameter.\n",
        "- $\\nu$ is the learning rate being used.\n"
      ]
    },
    {
      "cell_type": "markdown",
      "id": "ON1sjGghg3cD",
      "metadata": {
        "id": "ON1sjGghg3cD"
      },
      "source": [
        "<font size='4' color='red'>**1.D) Inline Question (1 point):** What is the gradient $\\nabla L(\\theta)$ in terms of $\\nabla \\mathcal{L}_\\text{objective}(\\theta)$ and $\\theta$?</font>"
      ]
    },
    {
      "cell_type": "markdown",
      "id": "gb_LLah_MSHs",
      "metadata": {
        "id": "gb_LLah_MSHs"
      },
      "source": [
        "$$ \\fbox{Answer: _______________}$$\n",
        "\n"
      ]
    },
    {
      "cell_type": "markdown",
      "id": "-lEo3NSYMULF",
      "metadata": {
        "id": "-lEo3NSYMULF"
      },
      "source": [
        "<font size='4' color='red'>**1.E) Inline Question (1 point):** Suppose 'ν' is the learning rate. Then what should be the update rule for Θ?</font>"
      ]
    },
    {
      "cell_type": "markdown",
      "id": "y5bUtU7aOMPE",
      "metadata": {
        "id": "y5bUtU7aOMPE"
      },
      "source": [
        "$$ \\fbox{Answer: _______________}$$\n",
        "\n"
      ]
    },
    {
      "cell_type": "markdown",
      "id": "c8f05372",
      "metadata": {
        "id": "c8f05372"
      },
      "source": [
        "<font size='4' color='Red'>Task 1.3 - Implement a `SimpleGradientDescent` optimizer class in pytorch (2 point)</font>\n",
        "\n",
        "\n",
        "Pytorch encapsulates optimization algorithms into optimizer classes that hold on to a list of parameters being optimized, and that update the parameters in-place based on gradients using a `step()` method.\n",
        "\n",
        "Here we see how that pattern works.\n",
        "\n",
        "Implement the `SimpleGradientDescent` class as a pytorch-style optimizer by completing the code below.\n",
        "\n",
        "Incorporate weight decay by adding the term you computed above, where $\\lambda$ is the `weight_decay` hyperparameter."
      ]
    },
    {
      "cell_type": "code",
      "execution_count": null,
      "id": "kbNId-rwFpPj",
      "metadata": {
        "id": "kbNId-rwFpPj"
      },
      "outputs": [],
      "source": [
        "class SimpleGradientDescent():\n",
        "    def __init__(self, parameters, lr=0.1, weight_decay=0.0):\n",
        "        self.lr = lr\n",
        "        self.weight_decay = weight_decay\n",
        "        self.parameters = []\n",
        "        for x in parameters:\n",
        "            self.parameters.append(x)\n",
        "    def step(self):\n",
        "      with torch.no_grad():\n",
        "            for x in self.parameters:\n",
        "        ########################################################################\n",
        "        # TODO:  Implement Simple Gradient Descent with the inclusion of\n",
        "        # weight_decay, and then update the results in variable x.\n",
        "        ########################################################################\n",
        "                x=None\n",
        "        ########################################################################\n",
        "        #                             END OF YOUR CODE                         #\n",
        "        ########################################################################\n",
        "    def zero_grad(self):\n",
        "        for x in self.parameters:\n",
        "            x.grad = None\n",
        "\n",
        "x = torch.tensor([-1.5, 1.2])\n",
        "x.requires_grad = True # This tells PyTorch that the x variable will be used to calculate gradients.\n",
        "\n",
        "L = LossFunctionWithPlot()\n",
        "\n",
        "learning_rate = 0.1\n",
        "optimizer = SimpleGradientDescent([x], lr=learning_rate, weight_decay=1e-3)\n",
        "\n",
        "for iter in range(50):\n",
        "    loss = L(x)\n",
        "    if iter % 7 == 0: print(f'Loss at step {iter} is {loss.item():.3f}')\n",
        "    loss.backward()\n",
        "    with torch.no_grad():\n",
        "        optimizer.step()\n",
        "    optimizer.zero_grad()\n",
        "\n",
        "L.plot_history()"
      ]
    },
    {
      "cell_type": "markdown",
      "id": "-_U2gL0uk499",
      "metadata": {
        "id": "-_U2gL0uk499"
      },
      "source": [
        "##<font size='5'>**Part 2: The ADAM optimizer**</font>"
      ]
    },
    {
      "cell_type": "markdown",
      "id": "WoAgbuAb2ioK",
      "metadata": {
        "id": "WoAgbuAb2ioK"
      },
      "source": [
        "<font size='4'>**I) Analyzing Raw Gradients, Means, and RMS (Root Mean Square).**</font>"
      ]
    },
    {
      "cell_type": "markdown",
      "id": "_VpedU2flT6m",
      "metadata": {
        "id": "_VpedU2flT6m"
      },
      "source": [
        "<font size='4'>**Measure mean of the gradient on each dimension**</font>\n",
        "\n",
        "First, let us plot and examine the mean of the gradient.\n",
        "\n",
        "Using the code below as a starting point, calculate and fill in the following mean gradient over the 50 iterations in the specific optimization below:\n",
        "\n",
        "$$\\mathtt{mean\\_grads[i]} = \\frac{1}{N} \\sum_{t=1}^N \\frac{\\partial \\mathcal{L}}{\\partial x_i}(x^{(t)})$$\n",
        "\n",
        "<font size='4' color='red'>**2.A) Inline Questions (2 points):**</font>\n",
        "\n",
        "$$\\text{1. Mean gradient component with respect to x[0]} = \\fbox{ TODO: what number }$$\n",
        "$$\\text{2. Mean gradient component with respect to x[1]} = \\fbox{ TODO: what number }$$\n"
      ]
    },
    {
      "cell_type": "markdown",
      "id": "5ouszwPql2q1",
      "metadata": {
        "id": "5ouszwPql2q1"
      },
      "source": [
        "<font size='4'>**Measure root-mean-square of the gradient on each dimension**</font>\n",
        "\n",
        "Second, let's plot the root mean square (RMS) of the gradient.\n",
        "\n",
        "Using the code below as a starting point, calculate and fill in the following root-mean-square gradient over the 50 iterations in the specific optimization below:\n",
        "\n",
        "$$\\mathtt{rms\\_grads[i]} = \\sqrt{\\frac{1}{N} \\sum_{t=1}^N \\left(\\frac{\\partial \\mathcal{L}}{\\partial x_i}(x^{(t)})\\right)^2}$$\n",
        "\n",
        "<font size='4' color='red'>**2.B) Inline Questions (2 points):**</font>\n",
        "\n",
        "$$\\text{ 1. RMS gradient component with respect to x[0]} = \\fbox{ TODO: what number }$$\n",
        "\n",
        "$$\\text{ 2. RMS gradient component with respect to x[1]} = \\fbox{ TODO: what number }$$\n"
      ]
    },
    {
      "cell_type": "markdown",
      "id": "Zx8lRDHblALC",
      "metadata": {
        "id": "Zx8lRDHblALC"
      },
      "source": [
        "\n",
        " <font size='4'>**Understanding the challanges faced by simple gradient descent.**</font>\n",
        "\n",
        "The optimization problem in Part I causes gradient descent to run into a few different problems:\n",
        " * after initially descending  the loss jumps back up.\n",
        " * after making initial quick progress, $x$ gets stuck instead of heading towards the middle."
      ]
    },
    {
      "cell_type": "markdown",
      "id": "BY9b9lgh1BRq",
      "metadata": {
        "id": "BY9b9lgh1BRq"
      },
      "source": [
        "<font size='4' color='Red'>Task 2.1 Insights from Raw Gradient Plots and Statistical Metrics (2 points)</font>\n",
        "\n",
        "To understand the problems, run the code below to see plots of the raw gradient, and then compute the Mean and root-mean-square (RMS) of each component of the gradient over all the iterations.\n"
      ]
    },
    {
      "cell_type": "code",
      "execution_count": null,
      "id": "31bd2478",
      "metadata": {
        "id": "31bd2478"
      },
      "outputs": [],
      "source": [
        "x = torch.tensor([-1.5, 1.2])\n",
        "x.requires_grad = True # This tells PyTorch that the x variable will be used to calculate gradients.\n",
        "\n",
        "L = LossFunctionWithPlot()\n",
        "\n",
        "learning_rate = 0.1\n",
        "optimizer = torch.optim.SGD([x], lr=learning_rate)\n",
        "grads = []\n",
        "\n",
        "for iter in range(50):\n",
        "    loss = L(x)\n",
        "    loss.backward()\n",
        "    with torch.no_grad():\n",
        "        optimizer.step()\n",
        "    grads.append(x.grad.clone())\n",
        "    optimizer.zero_grad()\n",
        "\n",
        "grads = torch.stack(grads)\n",
        "\n",
        "###################################################################################\n",
        "# TODO: compute mean derivatives and root mean square derivatives for x[0] and x[1]\n",
        "###################################################################################\n",
        "\n",
        "mean_grads = None # should be computed as a pair of means, one for each dimesnion\n",
        "rms_grads = None # should be computed as a pair of root-mean-squares, one for each dimension\n",
        "\n",
        "################################################################################\n",
        "#                             END OF YOUR CODE                                 #\n",
        "################################################################################\n",
        "\n",
        "print('Mean grads for two dimensions separately:', mean_grads)\n",
        "print('Root mean square grads for two dimensions separately:', rms_grads)\n",
        "\n",
        "L.plot_history(grads=grads, mean_grads=mean_grads, rms_grads=rms_grads)"
      ]
    },
    {
      "cell_type": "markdown",
      "id": "62598CcSmlyL",
      "metadata": {
        "id": "62598CcSmlyL"
      },
      "source": [
        "<font size='4'>**Facts about mean and RMS**</font>\n",
        "\n",
        "To understand the role of the mean and RMS, answer the following questions.\n",
        "\n",
        "<font size='4' color='red'>**2.C) Inline Question (4 points):**</font>\n",
        "\n",
        "$$\\text{1. When they differ, which is guaranteed to be smaller: mean or RMS?} = \\fbox{ TODO: say which }$$\n",
        "\n",
        "$$\\text{2. Which is a better representation of the \"average size\", mean or RMS?} = \\fbox{ TODO: say which }$$\n",
        "\n",
        "$$\\text{3. When the derviative is consistently positive, will the mean tend to be larger or smaller?} = \\fbox{ TODO: larger or smaller }$$\n",
        "\n",
        "$$\\text{4. When the derviative sign changes frequently, will the mean tend to be larger or smaller?} = \\fbox{ TODO: larger or smaller }$$\n"
      ]
    },
    {
      "cell_type": "markdown",
      "id": "RjTlBbV9ov9_",
      "metadata": {
        "id": "RjTlBbV9ov9_"
      },
      "source": [
        "<font size='4'>**Anticipating problems in optimization using Mean and RMS**</font>\n",
        "\n",
        "Based on the problems we are seeing, we want the optimizer to slow down when the mean is much smaller than the RMS, and speed up when the mean and RMS are about the same size.  That will:\n",
        "\n",
        "  1. Make sure the updates to be **small enough** when the gradient starts becoming bumpy, instead of oscillating.\n",
        "  2. Make sure the updates to be **large enough** when gradient is smooth but happens to be small.\n",
        "  \n",
        "The mean and RMS of the gradient can be used to deal with both these problems.  In the next section, we will see how they are directly applied in the ADAM optimizer.\n"
      ]
    },
    {
      "cell_type": "markdown",
      "id": "1eb61e28",
      "metadata": {
        "id": "1eb61e28"
      },
      "source": [
        "<font size='4'>**The idea of the ADAM optimizer**</font>\n",
        "\n",
        "The ADAM optimizer automatically chooses a different learning rate for each parameter by using a heuristic that shrinks the update size in regions where the gradient is changing more quickly, while normalizing the update size so that it is a consistent size even in regions where the gradient is very small.  Update magnitudes are calculated per-parameter, so ADAM can help deal with parameters that behave very differently from each other.\n",
        "\n",
        "\n",
        "The idea behind ADAM is to choose an update that is proportional to a fraction between a weighted mean of the gradient and a weighted RMS of the gradient:\n",
        "\n",
        "$$\\Delta x = - \\alpha \\frac{\\text{mean gradient}}{\\text{rms gradient}} = - \\alpha \\frac{\\sum_i w_i g_i}{\\sqrt{\\sum_i u_i g_i^2}}$$\n",
        "\n",
        "In the definition above, the $g_i$ are samples of the gradient from previous steps, and $w_i$ and $u_i$ are the weights to use for averaging.\n",
        "\n",
        "Why one might divide the mean gradient by the RMS of the gradient?\n",
        "\n",
        "To understand, answer the following question.\n"
      ]
    },
    {
      "cell_type": "markdown",
      "id": "i6Oo-nPGqrr4",
      "metadata": {
        "id": "i6Oo-nPGqrr4"
      },
      "source": [
        "<font size='4' color='red'>**2.D) Inline Question (2 points):**\n",
        "\n",
        "Suppose there is a new problem which is scaled by some constant $K$ so that all the new gradients are uniformly scaled larger. We want to understand whether ADAM speeds up or slows down when gradients are scaled up. Precisely: If gradients $\\hat{g}_i=Kg_i$ are scaled up with $K>1$, how will the ADAM update $\\Delta\\hat{x}$ relate to the original problem's ADAM update $\\Delta x$ i?  (e.g., which is larger?) </font>\n",
        "\n",
        "**Answer.**\n",
        "\n",
        "$$\\fbox{ TODO: say which is larger, if any, and prove why. }$$"
      ]
    },
    {
      "cell_type": "markdown",
      "id": "Y30Vk-QUqtAu",
      "metadata": {
        "id": "Y30Vk-QUqtAu"
      },
      "source": [
        "This property means that ADAM will not go too fast nor too slow just because the average size of the gradient is too large.  The only thing that will cause ADAM to slow down is when the mean is much smaller than the RMS, which happens when the gradient frequently changes sign, for example, when the optimizer is oscillating around a minima.\n",
        "\n",
        "Because the mean and RMS will change during the optimization, in practice the ADAM algorithm is based on using **exponential moving averages** which will adapt as optimization proceeds."
      ]
    },
    {
      "cell_type": "markdown",
      "id": "bf3G1ssXvach",
      "metadata": {
        "id": "bf3G1ssXvach"
      },
      "source": [
        "<font size='4'>**II) Exponential Moving Average (EMA) on Time Series Data**</font>\n",
        "\n",
        "The exponential Moving Average (EMA) represents a moving average variant that assigns greater importance to the most recent data points within a time series. It achieves this by progressively diminishing the influence of older data points. Unlike simple moving averages, where all data points hold the same weight, EMA's differential weighting scheme enhances its sensitivity to recent data alterations, rendering it highly attuned to the latest fluctuations within the data.\n",
        "\n",
        "EMA is a weighted average where, the weight of a sample of age $t-i$ is decayed exponentially by $\\beta^{(t-i)}$, where $\\beta < 1$ is the smoothing parameter.  That is, using geometric series identities,\n",
        "\n",
        "$$\\text{EMA}_t = \\frac{\\beta^{t-1} x_1 + \\beta^{t-2} x_1 + ... + \\beta x_{t-1} + x_t}{\\beta^{t-1} + \\beta^{t-2} + ... + \\beta + 1} = \\frac{(1 - \\beta) \\cdot \\sum_i \\beta^{t-i}x_i}{1 - \\beta^{t}}$$\n",
        "\n",
        "As $t$ gets large, the denominator becomes indistinguishable from one, and EMA can be estimated by computing just the numerator $\\text{EMA}_t^* = (1 - \\beta) \\cdot \\sum_i \\beta^{t-i}x_i$.  The numerator has the advantage that maintaining a running average only requires a single number be remembered: the most recent numerator $\\text{EMA}_{t-1}^*$.  The formula for calculating the numerator $\\text{EMA}_t^*$ is as follows:\n",
        "\n",
        "\\begin{align*}\n",
        "\\text{EMA}_0^* &= 0 \\\\\n",
        "\\text{EMA}_t^* &= \\beta \\cdot \\text{EMA}_{t-1}^* + (1 - \\beta) \\cdot x_t\n",
        "\\end{align*}\n",
        "\n",
        "When $t$ is small, the numerator can be much smaller than one, so it must be included, so the full formula for the EMA is:\n",
        "\n",
        "\\begin{align*}\n",
        "\\text{EMA}_t = \\frac{\\text{EMA}_t^*}{1 - \\beta^{t}}\n",
        "\\end{align*}\n",
        "\n",
        "Where,\n",
        "\n",
        "- $\\text{EMA}_t$ - is the Exponential Moving Average at time t.\n",
        "- $\\text{EMA}_t^*$ - is the Exponential Moving Average Numerator, which $\\approx \\text{EMA}_t$ when $t$ is large.\n",
        "- $x_t$ - is the data point at time t that you want to include in the EMA calculation.\n",
        "- $\\text{EMA}_{t−1}^*$ - is the EMA numerator calculated at the previous time step t−1.\n",
        "- $\\beta$ is the smoothing factor"
      ]
    },
    {
      "cell_type": "markdown",
      "id": "f2171690",
      "metadata": {
        "id": "f2171690"
      },
      "source": [
        "<font size='4' color='Red'>Task 2.2 Implement EMA (2 points)</font>\n",
        "\n",
        "Based on the definitions above, implement ema_update below, and produce the plot of the EMA of the synthetic time series data.\n",
        "\n",
        "As you can see, unlike the orindary mean, EMA adapts to changes in the data over time.\n",
        "\n",
        "Also notice the difference between EMA* and EMA at the beginning of the series.  Notice that EMA* is not unbiased: instead it has a clear bias towards zero.\n"
      ]
    },
    {
      "cell_type": "code",
      "execution_count": null,
      "id": "d04d63bf",
      "metadata": {
        "id": "d04d63bf"
      },
      "outputs": [],
      "source": [
        "def ema_update(x_t, beta, t, ema_star_old):\n",
        "    ema_star_t = 0.0\n",
        "    ema = 0.0\n",
        "    ############################################################################\n",
        "    # TODO: 1) compute ema_star_t from ema_star_old, beta, and x_t.\n",
        "    #       2) compute ema from ema_star_t, beta, and t\n",
        "    ############################################################################\n",
        "\n",
        "    ema_star_t = None\n",
        "    ema = None\n",
        "\n",
        "    ############################################################################\n",
        "    #                             END OF YOUR CODE                             #\n",
        "    ############################################################################\n",
        "\n",
        "    return ema, ema_star_t\n",
        "\n",
        "timestamps = 100\n",
        "time_series = torch.cat([\n",
        "    torch.randn(timestamps) * 0.1 - 10.0,\n",
        "    torch.randn(timestamps) + 0.5,\n",
        "])\n",
        "mean = time_series.mean()\n",
        "\n",
        "\n",
        "beta = 0.9\n",
        "ema_star = 0.0\n",
        "history, history_star = [], []\n",
        "\n",
        "for t, d in enumerate(time_series):\n",
        "\n",
        "    # This is the ema update\n",
        "    ema, ema_star = ema_update(d, beta, t+1, ema_star)\n",
        "    history.append(ema)\n",
        "    history_star.append(ema_star)\n",
        "\n",
        "plt.title('Exponential Moving Average Test Data')\n",
        "plt.scatter(range(len(time_series)), time_series, s=1, color='red', label='observed data')\n",
        "plt.axhline(mean, label='ordinary mean', color='magenta')\n",
        "plt.plot(history, label='EMA')\n",
        "plt.plot(history_star, label='EMA*', linewidth=0.5)\n",
        "plt.legend()\n",
        "plt.show()"
      ]
    },
    {
      "cell_type": "markdown",
      "id": "7d9f207c",
      "metadata": {
        "id": "7d9f207c"
      },
      "source": [
        "<font size='4'>**III) ADAM Optimizer**</font>\n",
        "\n",
        "ADAM (Adaptive Moment Estimation) is a popular optimization algorithm used for training machine learning and deep learning models.  ADAM is known for its efficiency, robustness, and ability to handle a wide range of optimization problems.\n",
        "\n",
        "Here are the key components and features of the ADAM optimizer:\n",
        "\n",
        "- Adaptive Learning Rates: ADAM adapts the learning rates for each parameter during training. It maintains a separate learning rate for each parameter based on the historical gradients of that parameter. This adaptability helps the algorithm converge faster and handle sparse gradients effectively.\n",
        "\n",
        "- EMA Momentum: ADAM incorporates the concept of momentum, similar to the SGD with momentum optimizer. It uses exponential moving averages of past gradients to help the optimization process. This momentum term smooths the optimization trajectory and accelerates convergence.\n",
        "\n",
        "The update rule for ADAM is as follows:\n",
        "\n",
        "\\begin{align*}\n",
        "m_t^* & = \\beta_1 \\cdot m_{t-1}^* + (1 - \\beta_1) \\cdot g_t & & \\text{(First Moment)} \\\\\n",
        "m_t & = \\frac{m_t^*}{1 - \\beta_1^t} & &\\text{(Bias correction)} \\\\\n",
        "v_t^* & = \\beta_2 \\cdot v_{t-1}^* + (1 - \\beta_2) \\cdot g_t^2 & & \\text{(Second Moment)} \\\\\n",
        "v_t & = \\frac{v_t^*}{1 - \\beta_2^t} & & \\text{(Bias correction)} \\\\\n",
        "x_{t+1} & = x_t - \\alpha \\cdot \\frac{{m}_t}{\\sqrt{{v}_t} + \\epsilon} & &\\text{(Parameter Update)}\n",
        "\\end{align*}\n",
        "\n",
        "Where:\n",
        "\n",
        "- $m_t$ and $v_t$ - are the EMA estimates of the first and second moments of the gradients at time step t, respectively.\n",
        "- $\\beta_1$ and $\\beta_2$ - are exponential decay rates for the first and second moments, typically close to 1\n",
        "- $g_t$ - is the gradient of the parameter $\\theta$ at time step t, which is used to calculate these moving averages.\n",
        "- $\\alpha$ is the learning rate.\n",
        "- $\\epsilon$ is a small constant, just to avoid division-by-zero.\n",
        "\n",
        "This can also be written as\n",
        "\\begin{align*}\n",
        "m_t, m_t^* & = \\mathtt{ema\\_update}(g_t, \\beta_1, t, m_{t-1}^*) & &\\text{(EMA Update)}\\\\\n",
        "v_t, v_t^* & = \\mathtt{ema\\_update}(g_t^2, \\beta_2, t, v_{t-1}^*) & &\\text{(EMA Update)} \\\\\n",
        "x_{t+1} & = x_t - \\alpha \\cdot \\frac{{m}_t}{\\sqrt{{v}_t} + \\epsilon} & &\\text{(Parameter Update)}\n",
        "\\end{align*}\n",
        "\n",
        "As a final detail, we can incorporate weight decay by defining $g_t$ to include the weight decay term as worked out in a previous exercise."
      ]
    },
    {
      "cell_type": "markdown",
      "id": "wyuRowA8r_jK",
      "metadata": {
        "id": "wyuRowA8r_jK"
      },
      "source": [
        "<font size='4' color='Red'>Task 2.3 - Implement the ADAM optimizer (_ points)</font>\n",
        "\n",
        "Now implement your own ADAMOptimizer, using the following code as a starting point.\n",
        "\n",
        " * Within the loop, you can use `ema_update` to make the code simpler.\n",
        " * Remember that there are two smoothing factors, `beta_1` and `beta_2`.\n",
        " * Remember to incorporate hyperparameters `learning rate`, `epsilon`, and `weight_decay`\n",
        "\n",
        "You can test your code by swapping between `torch.optim.Adam` and your own `ADAMOptimizer`.  On this test, they should behave the same."
      ]
    },
    {
      "cell_type": "code",
      "execution_count": null,
      "id": "cf4f52ff",
      "metadata": {
        "id": "cf4f52ff"
      },
      "outputs": [],
      "source": [
        "class ADAMOptimizer():\n",
        "    def __init__(self, parameters, lr=0.1, betas=[0.9, 0.999], eps=1e-8, weight_decay=0.0):\n",
        "        self.lr = lr\n",
        "        self.beta_1, self.beta_2 = betas\n",
        "        self.eps = eps\n",
        "        self.weight_decay = weight_decay\n",
        "\n",
        "        # t is a running timestamp.\n",
        "        self.t = 0\n",
        "        self.parameters = []\n",
        "        self.m_star = []\n",
        "        self.v_star = []\n",
        "        for x in parameters:\n",
        "            self.parameters.append(x)\n",
        "            self.m_star.append(torch.zeros_like(x))\n",
        "            self.v_star.append(torch.zeros_like(x))\n",
        "\n",
        "    def step(self):\n",
        "        self.t += 1\n",
        "        with torch.no_grad():\n",
        "            for x, m_star, v_star in zip(self.parameters, self.m_star, self.v_star):\n",
        "                g = 0.0\n",
        "                m, m_star[...] = 0, m_star\n",
        "                v, v_star[...] = 0, v_star\n",
        "                ################################################################\n",
        "                # TODO: Implement ADAM optimization\n",
        "                #\n",
        "                # There are three steps:\n",
        "                # (1) m and m_star are updated to incorporate g with smoothing\n",
        "                # beta_1 using ema_update(...).\n",
        "                # (2) v and v_star are updated to incorporate g^2 with smoothing\n",
        "                # beta_2 using ema_update(...).\n",
        "                #(3) x is updated according to ratio between the mean and RMS\n",
        "                # gradient estimates, using lr and epsilon.\n",
        "                #\n",
        "                # Remember to advance the timestep t before each step.\n",
        "                # Remember to update m_star and v_star in-place.\n",
        "                # There is a difference between saying m_star = something and\n",
        "                # m_star[...] = something.\n",
        "                ################################################################\n",
        "\n",
        "                x = None\n",
        "\n",
        "                ################################################################\n",
        "                #                             END OF YOUR CODE                 #\n",
        "                ################################################################\n",
        "    def zero_grad(self):\n",
        "        for x in self.parameters:\n",
        "            x.grad = None\n",
        "\n",
        "\n",
        "# TEST CODE BELOW\n",
        "# 'x' variable = is the current estimate which will be updated iteratively during the optimization.\n",
        "# 'L' function = the quadratic loss function we will use.  This one can also plot its inputs and outputs.\n",
        "# 'learning_rate' = is the step size that is used to update the solution\n",
        "\n",
        "x = torch.tensor([-1.5, 1.2])\n",
        "x.requires_grad = True # This tells PyTorch that the x variable will be used to calculate gradients.\n",
        "\n",
        "L = LossFunctionWithPlot()\n",
        "\n",
        "learning_rate = 0.1\n",
        "weight_decay = 0.1\n",
        "\n",
        "# If you switch this for torch.optim.Adam, it should behave exactly the same.\n",
        "optimizer = ADAMOptimizer([x], lr=learning_rate, weight_decay=weight_decay)\n",
        "\n",
        "for iter in range(50):\n",
        "    loss = L(x)\n",
        "    if iter % 7 == 0: print(f'Loss at step {iter} is {loss.item():.3f}')\n",
        "    loss.backward()\n",
        "    with torch.no_grad():\n",
        "        optimizer.step()\n",
        "    optimizer.zero_grad()\n",
        "\n",
        "L.plot_history()"
      ]
    },
    {
      "cell_type": "markdown",
      "id": "LY2CIwLNAb9j",
      "metadata": {
        "id": "LY2CIwLNAb9j"
      },
      "source": [
        "<font size='5'>**Part 3: Training a Neural Network**</font>\n",
        "\n"
      ]
    },
    {
      "cell_type": "markdown",
      "id": "VFusvmFrC86H",
      "metadata": {
        "id": "VFusvmFrC86H"
      },
      "source": [
        "<font size='4'>**Tiny Classification Problem**</font>\n",
        "\n",
        "The following code loads raw data for a tiny classification problem.\n",
        "\n",
        "\n",
        "The training data has 10000 samples, each a vector of 36 numbers along with\n",
        "a corresponding set of 10000 labels, assigning 0 or 1 to each sample.\n",
        "The test data has 2000 samples and labels that are disjoint from the training data.\n",
        "\n"
      ]
    },
    {
      "cell_type": "code",
      "execution_count": null,
      "id": "96435708",
      "metadata": {
        "id": "96435708"
      },
      "outputs": [],
      "source": [
        "train_data, train_labels, test_data, test_labels = [\n",
        "    torch.tensor(m[k]).float()\n",
        "    for m in [numpy.load('tiny-classification.npz')]\n",
        "    for k in 'train_data train_labels val_data val_labels'.split()]\n",
        "\n",
        "print(f'The training data has {train_data.size(0)} samples, each a vector of {train_data.size(1)} numbers along with')\n",
        "print(f'a corresponding set of {train_labels.size(0)} labels, assigning {train_labels.min()} or {train_labels.max()} to each sample.')\n",
        "\n",
        "print(f'The test data has {test_data.size(0)} samples and labels that are disjoint from the training data.')"
      ]
    },
    {
      "cell_type": "markdown",
      "id": "epMu2hf6gGcK",
      "metadata": {
        "id": "epMu2hf6gGcK"
      },
      "source": [
        "\n",
        "\n",
        "The following code cell serves the purpose of training a neural network, tracking its performance throughout the training process, and generating visual representations of the training progress. It is crucial for students to grasp the functionality of the `run_test` function and `Supervise` class as it will be frequently utilized in the subsequent tasks.\n",
        "\n",
        "Comments have been thoughtfully included to enhance code comprehension."
      ]
    },
    {
      "cell_type": "code",
      "execution_count": null,
      "id": "L1S1BFVngGm9",
      "metadata": {
        "id": "L1S1BFVngGm9"
      },
      "outputs": [],
      "source": [
        "def run_test(net, optmaker, test_every=10):\n",
        "    # Set up the Loss Function and Optimizer\n",
        "    optimizer = optmaker(net.parameters()) # Initialize the optimizer with model parameters\n",
        "    print(f'{sum([p.numel() for p in net.parameters()])} parameters')\n",
        "    train_losses, train_accs, test_accs = [], [], []\n",
        "\n",
        "    for epoch in range(2000):\n",
        "        loss = net(train_data.float(), train_labels.float())\n",
        "        loss.backward()\n",
        "        train_losses.append([epoch, loss.item()])\n",
        "        optimizer.step() # Update model parameters using the optimizer's update rule\n",
        "        if epoch % test_every == test_every - 1:\n",
        "            grads = torch.stack([p.grad.abs().max() for p in net.parameters()])\n",
        "            maxg, ming = grads.abs().max(), grads.abs().min()\n",
        "            train_outputs = net.net(train_data.float())\n",
        "            train_preds = (train_outputs.squeeze() > 0.5).float()\n",
        "            train_accuracy = (train_preds == train_labels).float().mean()\n",
        "            train_accs.append([epoch + 1, train_accuracy])\n",
        "            test_outputs = net.net(test_data.float())\n",
        "            test_preds = (test_outputs.squeeze() > 0.5).float()\n",
        "            test_accuracy = (test_preds == test_labels).float().mean()\n",
        "            test_accs.append([epoch + 1, test_accuracy])\n",
        "            print(f'Epoch {epoch+1}, Loss: {loss.item():.5f}, Grad range {maxg:.1e} to {ming:.1e}, '\n",
        "                  f'Train Accuracy: {train_accuracy.item()}, Test Accuracy: {test_accuracy.item()}', end='   \\r')\n",
        "            if test_accuracy.item() == 1.0:\n",
        "                break\n",
        "        optimizer.zero_grad()\n",
        "\n",
        "    # Test the Model\n",
        "    with torch.no_grad():\n",
        "        train_outputs = net.net(train_data.float())\n",
        "        train_preds = (train_outputs.squeeze() > 0.5).float()\n",
        "        train_accuracy = (train_preds == train_labels).float().mean()\n",
        "        test_outputs = net.net(test_data.float())\n",
        "        test_preds = (test_outputs.squeeze() > 0.5).float()\n",
        "        test_accuracy = (test_preds == test_labels).float().mean()\n",
        "        print(f'\\nTrain Accuracy: {train_accuracy.item():.5f}, Test Accuracy: {test_accuracy.item():.5f}')\n",
        "\n",
        "\n",
        "    # Visulaiztion\n",
        "    fig, ax = plt.subplots()\n",
        "    ax2 = ax.twinx()\n",
        "    ax.plot(*zip(*train_losses), label=\"Training loss\")\n",
        "    ax.set_yscale('log')\n",
        "    ax2.plot(*zip(*train_accs), color=\"orange\", label=\"Training accuracy\")\n",
        "    ax2.plot(*zip(*test_accs), color=\"red\", label=\"Test accuracy\")\n",
        "    ax2.set_ylim(0.0, 1.0)\n",
        "    for a in [ax, ax2]:\n",
        "        for pos in 'top right bottom left'.split():\n",
        "            a.spines[pos].set_visible(False)\n",
        "    ax.set_xlabel('Epochs')\n",
        "    ax.set_ylabel('Loss')\n",
        "    ax2.set_ylabel('Accuracy')\n",
        "    fig.legend(loc=\"lower left\", bbox_to_anchor=(0, 0), bbox_transform=ax.transAxes)\n",
        "    fig.show()\n",
        "\n",
        "print(f'Data width {train_data.size(1)}; Constant baseline accuracy {max(test_labels.sum(), len(test_labels) - test_labels.sum()) / len(test_labels):.3f}')"
      ]
    },
    {
      "cell_type": "markdown",
      "id": "Y5qSRWwijUQa",
      "metadata": {
        "id": "Y5qSRWwijUQa"
      },
      "source": [
        "The `Supervise` class is a wrapper that combines a neural network model and a loss function to facilitate supervised learning tasks. It computes the loss by performing a forward pass through the neural network and comparing the predicted values to the true labels."
      ]
    },
    {
      "cell_type": "code",
      "execution_count": null,
      "id": "VlilWz24jHZ6",
      "metadata": {
        "id": "VlilWz24jHZ6"
      },
      "outputs": [],
      "source": [
        "class Supervise(Module):\n",
        "    def __init__(self, criterion, net):\n",
        "        super().__init__()\n",
        "        self.net = net\n",
        "        self.criterion = criterion\n",
        "    def forward(self, x, y):\n",
        "        out = self.net(x).squeeze()\n",
        "        return self.criterion(out, y)"
      ]
    },
    {
      "cell_type": "markdown",
      "id": "6NtCZCwld6dL",
      "metadata": {
        "id": "6NtCZCwld6dL"
      },
      "source": [
        "<font size='4'>**Here is an example on how to train a model using `Supervise` and `run_test` function**</font>"
      ]
    },
    {
      "cell_type": "code",
      "execution_count": null,
      "id": "fZBTDTHdf7oT",
      "metadata": {
        "id": "fZBTDTHdf7oT"
      },
      "outputs": [],
      "source": [
        "################################################################################\n",
        "# TODO: Build a Neural Network which has the architecture as follows:-\n",
        "# Hidden Dimension - 256\n",
        "# Loss function - Mean Squared Error (MSE)\n",
        "# Optimizer - Simple GradientDescent (lr=0.1) [Using the optimizer built in Task 1.3]\n",
        "# Network Architecture - (Linear + Sigmoid) -> (Linear + Sigmoid) -> (Linear +\n",
        "# Sigmoid)\n",
        "################################################################################\n",
        "\n",
        "input_size=train_data.size(1)\n",
        "hidden_dims= 256\n",
        "output_dims=1\n",
        "\n",
        "run_test(\n",
        "    Supervise(\n",
        "    nn.MSELoss(),\n",
        "        nn.Sequential(\n",
        "            nn.Linear(input_size, hidden_dims),\n",
        "            nn.Sigmoid(),\n",
        "            nn.Linear(hidden_dims, hidden_dims),\n",
        "            nn.Sigmoid(),\n",
        "            nn.Linear(hidden_dims, output_dims),\n",
        "            nn.Sigmoid()\n",
        "        )\n",
        "    ),\n",
        "    lambda p: SimpleGradientDescent(p,lr=0.1)\n",
        ")\n",
        "################################################################################\n",
        "#                             END OF YOUR CODE                                 #\n",
        "################################################################################"
      ]
    },
    {
      "cell_type": "markdown",
      "id": "64K8wl6wmrwT",
      "metadata": {
        "id": "64K8wl6wmrwT"
      },
      "source": [
        "<font size='4'>**Configuring and training various Neural Network Architectures**</font>"
      ]
    },
    {
      "cell_type": "markdown",
      "id": "EQyIGjm0-xTP",
      "metadata": {
        "id": "EQyIGjm0-xTP"
      },
      "source": [
        "Let's construct a range of neural network architectures with varying configurations to explore their impact on training performance when considering factors such as:\n",
        "\n",
        "- Activation functions\n",
        "- Choice of optimizers\n",
        "- Regulariztion\n",
        "- Hidden layer dimensions\n",
        "- Network depth\n",
        "- Batch normalization\n",
        "- Residual networks.\n",
        "\n",
        "This experimentation will help us gain insights into how these factors influence the training process on our dataset.\n",
        "\n",
        "**Note** - Utilize the previously defined `SimpleGradientDescent` and `ADAMOptimizer` optimizers exclusively, unless otherwise specified in the task to employ PyTorch's built-in optimizers."
      ]
    },
    {
      "cell_type": "markdown",
      "id": "LiuIvhPU3YMH",
      "metadata": {
        "id": "LiuIvhPU3YMH"
      },
      "source": [
        "#### **1) Activation functions**"
      ]
    },
    {
      "cell_type": "markdown",
      "id": "agozVVyorrp5",
      "metadata": {
        "id": "agozVVyorrp5"
      },
      "source": [
        "<font size='4' color='Red'>Task 3.1 - Test sigmoid activations in a three-layer network with `run_Test` (1 point)</font>\n",
        "\n",
        "Let's apply our new `run_test` function together with your `SimpleGradientDescent` optimizer class to test (assuming that is the class name you gave it).  You will need to put in your three-layer sigmoid network definition to make the example work.\n"
      ]
    },
    {
      "cell_type": "code",
      "execution_count": null,
      "id": "2d183dbc",
      "metadata": {
        "id": "2d183dbc"
      },
      "outputs": [],
      "source": [
        "torch.manual_seed(7150) # (Leave it here for deterministic behavior and easier grading)\n",
        "################################################################################\n",
        "# TODO: Create an architecture similar to the example but with reduced hidden\n",
        "# dimension\n",
        "# Hidden Dimension - 128\n",
        "# Loss - MSELoss()\n",
        "# Optimizer - Simple GradientDescent - (lr = 1.0) [Use the Optimizer built above]\n",
        "# Network Architecture - (Linear + Sigmoid) -> (Linear + Sigmoid) -> (Linear + Sigmoid)\n",
        "################################################################################\n",
        "raise NotImplementedError\n",
        "\n",
        "################################################################################\n",
        "#                             END OF YOUR CODE                                 #\n",
        "################################################################################\n"
      ]
    },
    {
      "cell_type": "markdown",
      "id": "aWO4UYrloOdv",
      "metadata": {
        "id": "aWO4UYrloOdv"
      },
      "source": [
        "<font size='4' color='Red'>Task 3.2 - Test Tanh activations in a three-layer network (1 point)</font>\n",
        "\n",
        "Implement the same neural network architecture\n",
        "\n",
        "Read documentation - https://pytorch.org/docs/stable/generated/torch.nn.Tanh.AC\n",
        "\n",
        "Now let us compare Sigmoid to other activations.  Switch every `nn.Sigmoid()` to `nn.Tanh()`.  Tanh balances positive and negative outputs and sometimes work better.  Implement and decide whether it is helping in this case."
      ]
    },
    {
      "cell_type": "code",
      "execution_count": null,
      "id": "6lgkGpy0pLfs",
      "metadata": {
        "id": "6lgkGpy0pLfs"
      },
      "outputs": [],
      "source": [
        "torch.manual_seed(7150) # (Leave it here for deterministic behavior and easier grading)\n",
        "################################################################################\n",
        "# TODO: Create an architecture similar to the previous one, but replace every\n",
        "# nn.Sigmoid() activation function with nn.Tanh() (except for the last one).\n",
        "# Hidden Dimension - 128\n",
        "# Loss - MSELoss()\n",
        "# Optimizer - Simple GradientDescent - (lr = 1.0) [Use the Optimizer built above]\n",
        "# Network Architecture - (Linear + Tanh) -> (Linear + Tanh) -> (Linear + Sigmoid)\n",
        "################################################################################\n",
        "\n",
        "raise NotImplementedError\n",
        "\n",
        "###########################################################################\n",
        "#                             END OF YOUR CODE                            #\n",
        "###########################################################################"
      ]
    },
    {
      "cell_type": "markdown",
      "id": "Kyb8euJ4rVv_",
      "metadata": {
        "id": "Kyb8euJ4rVv_"
      },
      "source": [
        "<font size='4' color='Red'>Task 3.3 - Test ReLU activations in a three-layer network (1 point)</font>\n",
        "\n",
        "The ReLU activation was studied closely by Glorot, which we have discussed in class.  It tends to be very effective at avoiding  vanishing gradients, because on the positive side it never saturates.  Replace all your nonlinearties with ReLU while keeping the architecture otherwise the same.  Does ReLU help in this case?"
      ]
    },
    {
      "cell_type": "code",
      "execution_count": null,
      "id": "BqP39Nbi3q5-",
      "metadata": {
        "id": "BqP39Nbi3q5-"
      },
      "outputs": [],
      "source": [
        "torch.manual_seed(7150) # (Leave it here for deterministic behavior and easier grading)\n",
        "################################################################################\n",
        "# TODO: Create an architecture similar to the previous one, but replace every\n",
        "# nn.Tanh() activation function with nn.ReLU() (except for the last one).\n",
        "# Hidden Dimension - 128\n",
        "# Loss - MSELoss()\n",
        "# Optimizer - SimpleGradientDescent - (lr = 1.0)\n",
        "# Network Architecture - (Linear + ReLU) -> (Linear + ReLU) -> (Linear + Sigmoid)\n",
        "#################################################################################\n",
        "\n",
        "raise NotImplementedError\n",
        "\n",
        "###########################################################################\n",
        "#                             END OF YOUR CODE                            #\n",
        "###########################################################################"
      ]
    },
    {
      "cell_type": "markdown",
      "id": "uhK2MS4psHKf",
      "metadata": {
        "id": "uhK2MS4psHKf"
      },
      "source": [
        "<font size='4' color='red'>**3.A) Inline Question (1 point):**  \n",
        "In the above Tasks, we employed three different activation functions—sigmoid, tanh, and relu—in our neural network architecture. Describe the difference in the behavior of the optimization process that you observed between Sigmoid, TanH, and ReLU.  Do your results confirm or contradict the results that Glorot reported in his 2010 study?</font>"
      ]
    },
    {
      "cell_type": "markdown",
      "id": "uW4GDdwfhDeW",
      "metadata": {
        "id": "uW4GDdwfhDeW"
      },
      "source": [
        "$$ \\fbox{Answer: _______________}$$"
      ]
    },
    {
      "cell_type": "markdown",
      "id": "_1AkeUKK4foW",
      "metadata": {
        "id": "_1AkeUKK4foW"
      },
      "source": [
        "<font size='4' color='Red'>Task 3.4 - Implement Binary Cross Entropy Loss (1 point)</font>\n",
        "\n",
        "In a classification setting, we often prefer to interpret the outputs as probabilities and drive the probability distribution towards the true distribution.  The standard way to achieve that is to use the cross-entropy loss.  Cross-entropy (as seen in HW1) also test to avoid saturation when compared to MSE, when used in combination with softmax.\n",
        "\n",
        "Replace the supervision with `BCELoss` rather than mean square error, and observe any differences.\n",
        "\n",
        "Read documentation for BCE Loss - https://pytorch.org/docs/stable/generated/torch.nn.BCELoss.html"
      ]
    },
    {
      "cell_type": "code",
      "execution_count": null,
      "id": "B_R-exYg43AB",
      "metadata": {
        "id": "B_R-exYg43AB"
      },
      "outputs": [],
      "source": [
        "torch.manual_seed(7150) # (Leave it here for deterministic behavior and easier grading)\n",
        "################################################################################\n",
        "# TODO: Build a neural network with following architecture:\n",
        "# Hidden Dimension - 128\n",
        "# Loss - Binary Cross Entropy\n",
        "# Optimizer - SimpleGradientDescent - (lr = 1.0)\n",
        "# Network Architecture - (Linear + ReLU) -> (Linear + ReLU) -> (Linear + Sigmoid)\n",
        "################################################################################\n",
        "\n",
        "raise NotImplementedError\n",
        "\n",
        "###########################################################################\n",
        "#                             END OF YOUR CODE                            #\n",
        "###########################################################################"
      ]
    },
    {
      "cell_type": "markdown",
      "id": "khIGKQdaxIaY",
      "metadata": {
        "id": "khIGKQdaxIaY"
      },
      "source": [
        "<font size='4'>**2) Optimizers**</font>"
      ]
    },
    {
      "cell_type": "markdown",
      "id": "O10S7rvSx2tT",
      "metadata": {
        "id": "O10S7rvSx2tT"
      },
      "source": [
        "<font size='4' color='Red'>Task 3.5 Implement using SGD Optimizer (1 point)</font>\n",
        "\n",
        "So far we have been using our own `SimpleGradientDescent`.  Now try comparing results with pytorch's built-in `torch.optim.SGD` class.  How does your implementation compare?  Is it the same?\n",
        "\n",
        "Read Documentation for SGD Optimizer using Pytorch - https://pytorch.org/docs/stable/generated/torch.optim.SGD.html"
      ]
    },
    {
      "cell_type": "code",
      "execution_count": null,
      "id": "GX8ozUIJxHgo",
      "metadata": {
        "id": "GX8ozUIJxHgo"
      },
      "outputs": [],
      "source": [
        "torch.manual_seed(7150) # (Leave it here for deterministic behavior and easier grading)\n",
        "################################################################################\n",
        "# TODO: Build a neural network with following architecture, Careful, Hidden\n",
        "# Dimension has changed.\n",
        "# Hidden Dimension - 128\n",
        "# Loss - Binary Cross Entropy\n",
        "# Optimizer - SGD - (lr = 0.5)\n",
        "# Network Architecture - (Linear + ReLU) -> (Linear + ReLU) -> (Linear + Sigmoid)\n",
        "################################################################################\n",
        "\n",
        "raise NotImplementedError\n",
        "\n",
        "###########################################################################\n",
        "#                             END OF YOUR CODE                            #\n",
        "###########################################################################"
      ]
    },
    {
      "cell_type": "markdown",
      "id": "0UWdkIJ26CuR",
      "metadata": {
        "id": "0UWdkIJ26CuR"
      },
      "source": [
        "<font size='4' color='Red'>Task 3.6 - ADAM Optimizer (1 point)</font>\n",
        "\n",
        "ADAM is a very powerful optimizer and should improve results.\n",
        "\n",
        "Use your own `ADAMOptimizer` class here to see how it behaves.  If you wish to debug against the standard ADAM optimizer, then you can try it out as well, but when you hand in your results, show what your `ADAMOptimzer` does.  Ideally, they should behave the same.\n",
        "\n",
        "Read Documentation for ADAM Optimizer using Pytorch - https://pytorch.org/docs/stable/generated/torch.optim.Adam.html"
      ]
    },
    {
      "cell_type": "code",
      "execution_count": null,
      "id": "-mhg9qJz6JVz",
      "metadata": {
        "id": "-mhg9qJz6JVz"
      },
      "outputs": [],
      "source": [
        "torch.manual_seed(7150)# (Leave it here for deterministic behavior and easier grading)\n",
        "################################################################################\n",
        "# TODO: Build a neural network with following architecture:\n",
        "# Hidden Dimension - 128\n",
        "# Loss - Binary Cross Entropy\n",
        "# Optimizer - ADAM (weight decay = 0 ,lr = 0.01)\n",
        "# Network Architecture - (Linear + ReLU) -> (Linear + ReLU) -> (Linear + Sigmoid)\n",
        "################################################################################\n",
        "\n",
        "raise NotImplementedError\n",
        "\n",
        "###########################################################################\n",
        "#                             END OF YOUR CODE                            #\n",
        "###########################################################################"
      ]
    },
    {
      "cell_type": "markdown",
      "id": "fHYOLEdrpxds",
      "metadata": {
        "id": "fHYOLEdrpxds"
      },
      "source": [
        "<font size='4' color='red'>**3.B) Inline Question (2 points):** Does ADAMOptimzer do better?  Explain how the optimization behaves differently than you observed with Simple Gradient Descent. </font>"
      ]
    },
    {
      "cell_type": "markdown",
      "id": "qrX35UIftVrp",
      "metadata": {
        "id": "qrX35UIftVrp"
      },
      "source": [
        "Ans."
      ]
    },
    {
      "cell_type": "markdown",
      "id": "8Bn8oC7m7tBo",
      "metadata": {
        "id": "8Bn8oC7m7tBo"
      },
      "source": [
        "<font size='4'>**The Battle Against Overfitting**</font>\n",
        "\n",
        "Let's apply some techniques to enhance and refine our model."
      ]
    },
    {
      "cell_type": "markdown",
      "id": "7gvyvcLJz6sZ",
      "metadata": {
        "id": "7gvyvcLJz6sZ"
      },
      "source": [
        "<font size='4'>**A) The Art of Regularization**</font>\n",
        "\n",
        "\n",
        "<font size='4' color='Red'>Task 3.7 - Add a penalty term to the loss function that discourages large weights. This helps prevent the model from fitting noise in the data. (1 point)</font>\n",
        "\n"
      ]
    },
    {
      "cell_type": "code",
      "execution_count": null,
      "id": "-LXnpOum6zqQ",
      "metadata": {
        "id": "-LXnpOum6zqQ"
      },
      "outputs": [],
      "source": [
        "torch.manual_seed(7150) # (Leave it here for deterministic behavior and easier grading)\n",
        "################################################################################\n",
        "# TODO: Design a neural network with the specified architecture and introduce a\n",
        "# regularization term in the loss function to discourage the growth of large\n",
        "# weights.\n",
        "# Hidden Dimension - 128\n",
        "# Loss - Binary Cross Entropy\n",
        "# Optimizer - Adam with weight decay - (lr = 0.01, weight_decay=1e-3)\n",
        "# Network Architecture - (Linear + ReLU) -> (Linear + ReLU) -> (Linear + Sigmoid)\n",
        "################################################################################\n",
        "\n",
        "raise NotImplementedError\n",
        "\n",
        "###########################################################################\n",
        "#                             END OF YOUR CODE                            #\n",
        "###########################################################################"
      ]
    },
    {
      "cell_type": "markdown",
      "id": "Mh2MW5Kg2H45",
      "metadata": {
        "id": "Mh2MW5Kg2H45"
      },
      "source": [
        "<font size='4'>**B) Slimming Down for Success**</font>\n",
        "\n",
        "Reducing Hidden Dimension - Fewer parameters means that the model has less flexibility to fit the training data and it is forced to learn simpler features that are more likely to generalize to new data."
      ]
    },
    {
      "cell_type": "markdown",
      "id": "73PD2qLp8E-J",
      "metadata": {
        "id": "73PD2qLp8E-J"
      },
      "source": [
        "<font size='4' color='Red'>Task 3.8 - Going Deeper with Shrinking Hidden Dimensions (1 point)</font>\n",
        "\n",
        "Let's explore the effectiveness of dimension reduction as a technique by reducing the number of hidden dimensions from 128 to 64."
      ]
    },
    {
      "cell_type": "code",
      "execution_count": null,
      "id": "TFzA3PE38k_4",
      "metadata": {
        "id": "TFzA3PE38k_4"
      },
      "outputs": [],
      "source": [
        "torch.manual_seed(7150)# (Leave it here for deterministic behavior and easier grading)\n",
        "################################################################################\n",
        "# TODO: Let's create a neural network with following architecture:\n",
        "# Hidden Dimension - 64\n",
        "# Loss - Binary Cross Entropy\n",
        "# Optimizer - Adam with weight decay - (lr = 0.01, weight_decay=1e-3)\n",
        "# Network Architecture - (Linear + ReLU) -> (Linear + ReLU) -> (Linear + Sigmoid)\n",
        "################################################################################\n",
        "\n",
        "raise NotImplementedError\n",
        "\n",
        "###########################################################################\n",
        "#                             END OF YOUR CODE                            #\n",
        "###########################################################################"
      ]
    },
    {
      "cell_type": "markdown",
      "id": "IaB_IxhL8zpR",
      "metadata": {
        "id": "IaB_IxhL8zpR"
      },
      "source": [
        "<font size='4' color='Red'>Task 3.10 - Going more Deeper with Shrinking Hidden Dimensions (1 point)</font>\n",
        "\n",
        "Dimension reduction improved our outcome. Let's continue by further reducing the hidden dimension from 64 to 32.\n"
      ]
    },
    {
      "cell_type": "code",
      "execution_count": null,
      "id": "14060344",
      "metadata": {
        "id": "14060344"
      },
      "outputs": [],
      "source": [
        "torch.manual_seed(7150)# (Leave it here for deterministic behavior and easier grading)\n",
        "################################################################################\n",
        "# TODO: Let's create a neural network with following architecture:\n",
        "# Hidden Dimension - 32\n",
        "# Loss - Binary Cross Entropy\n",
        "# Optimizer - Adam with weight decay - (lr = 0.01, weight_decay=1e-3)\n",
        "# Network Architecture - (Linear + ReLU) -> (Linear + ReLU) -> (Linear + Sigmoid)\n",
        "################################################################################\n",
        "\n",
        "raise NotImplementedError\n",
        "\n",
        "###########################################################################\n",
        "#                             END OF YOUR CODE                            #\n",
        "###########################################################################"
      ]
    },
    {
      "cell_type": "markdown",
      "id": "X9mgkLxp9O_4",
      "metadata": {
        "id": "X9mgkLxp9O_4"
      },
      "source": [
        "<font size='4' color='Red'>Task 3.11 - The Last Shrink (1 point)</font>\n",
        "\n",
        "Did it help to reduce to 32 dimensions?\n",
        "\n",
        "Let's try one more time, maybe it will work? (Below, please try reducing the hidden dimension from 32 to 16.)"
      ]
    },
    {
      "cell_type": "code",
      "execution_count": null,
      "id": "Ckr9PX6-9YHo",
      "metadata": {
        "id": "Ckr9PX6-9YHo"
      },
      "outputs": [],
      "source": [
        "torch.manual_seed(7150)# (Leave it here for deterministic behavior and easier grading)\n",
        "#############################################################################################################\n",
        "# TODO: Let's create a neural network with following architecture:\n",
        "# Hidden Dimension - 16\n",
        "# Loss - Binary Cross Entropy\n",
        "# Optimizer - Adam with weight decay - (lr = 0.01, weight_decay=1e-3)\n",
        "# Network Architecture - (Linear + ReLU) -> (Linear + ReLU) -> (Linear + Sigmoid)\n",
        "#############################################################################################################\n",
        "\n",
        "raise NotImplementedError\n",
        "\n",
        "###########################################################################\n",
        "#                             END OF YOUR CODE                            #\n",
        "###########################################################################"
      ]
    },
    {
      "cell_type": "markdown",
      "id": "9QABLUcI_H2s",
      "metadata": {
        "id": "9QABLUcI_H2s"
      },
      "source": [
        "<font size='4' color='red'>**3.C) Inline Question**  - In the above Tasks [3.8 - 3.11] (Slimming Down for success) what were your key observations? (1 point)</font>  "
      ]
    },
    {
      "cell_type": "markdown",
      "id": "2A7yApTVQz1D",
      "metadata": {
        "id": "2A7yApTVQz1D"
      },
      "source": [
        "$$ \\fbox{Answer: _______________}$$"
      ]
    },
    {
      "cell_type": "markdown",
      "id": "M_PqcsLi9fkA",
      "metadata": {
        "id": "M_PqcsLi9fkA"
      },
      "source": [
        "<font size='4'>**C) Layer by Layer**</font>\n",
        "\n",
        "Increasing the number of layers.\n",
        "\n",
        "Geoff Hinton likes to assert that deeper layers can capture increasingly abstract and high-level features in the data. This hierarchy allows the network to focus on relevant patterns and discard noise, making it less prone to fitting random variations in the training data.\n",
        "\n",
        "Is it true?  Let's try it."
      ]
    },
    {
      "cell_type": "markdown",
      "id": "8x2-KnATDNwo",
      "metadata": {
        "id": "8x2-KnATDNwo"
      },
      "source": [
        "<font size='4' color='Red'>Task 3.12 - Increasing the Depth of the network (1 point)</font>\n",
        "\n",
        "Let's enhance our model by introducing an additional layer, creating a network with four layers."
      ]
    },
    {
      "cell_type": "code",
      "execution_count": null,
      "id": "52857f7e",
      "metadata": {
        "id": "52857f7e"
      },
      "outputs": [],
      "source": [
        "torch.manual_seed(7150)# (Leave it here for deterministic behavior and easier grading)\n",
        "################################################################################\n",
        "# TODO: Let's create a neural network with following architecture:\n",
        "# Hidden Dimension - 64\n",
        "# Loss - Binary Cross Entropy\n",
        "# Optimizer - Adam (lr = 0.01, weight_decay=1e-3)\n",
        "# Network Architecture - (Linear + ReLU) -> (Linear + ReLU) -> (Linear + ReLU)\n",
        "# -> (Linear + Sigmoid)\n",
        "################################################################################\n",
        "\n",
        "raise NotImplementedError\n",
        "\n",
        "###########################################################################\n",
        "#                             END OF YOUR CODE                            #\n",
        "###########################################################################"
      ]
    },
    {
      "cell_type": "markdown",
      "id": "9W2sf6W3-xBR",
      "metadata": {
        "id": "9W2sf6W3-xBR"
      },
      "source": [
        "<font size='4' color='Red'>Task 3.13 - Increasing the Depth and reducing the width of the network (1 point)</font>\n",
        "\n",
        "The recent modification yielded remarkable results. Now, let's take it a step further by enhancing our model's architecture: we'll increase the number of layers from 4 to 6 and reduce the hidden dimension from 64 to 32."
      ]
    },
    {
      "cell_type": "code",
      "execution_count": null,
      "id": "iKXs0g9w_Cx4",
      "metadata": {
        "id": "iKXs0g9w_Cx4"
      },
      "outputs": [],
      "source": [
        "torch.manual_seed(7150)# (Leave it here for deterministic behavior and easier grading)\n",
        "################################################################################\n",
        "# TODO: Let's create a neural network with following architecture:\n",
        "# Hidden Dimension - 32\n",
        "# Loss - Binary Cross Entropy\n",
        "# Optimizer - Adam with weight decay - (lr=0.005, weight_decay=1e-4)\n",
        "# Network Architecture - (Linear + ReLU) -> (Linear + ReLU) -> (Linear + ReLU)\n",
        "#-> (Linear + ReLU) -> (Linear + ReLU) -> (Linear + Sigmoid)\n",
        "################################################################################\n",
        "\n",
        "raise NotImplementedError\n",
        "\n",
        "###########################################################################\n",
        "#                             END OF YOUR CODE                            #\n",
        "###########################################################################"
      ]
    },
    {
      "cell_type": "markdown",
      "id": "TzOGOppCXECH",
      "metadata": {
        "id": "TzOGOppCXECH"
      },
      "source": [
        "<font size='4'>**D) Batch Normalization**</font>"
      ]
    },
    {
      "cell_type": "markdown",
      "id": "-QyHKtasenOh",
      "metadata": {
        "id": "-QyHKtasenOh"
      },
      "source": [
        "Batch Normalization is a technique used to improve the training of deep neural networks. It works by normalizing the activations of each layer, which helps to prevent the network from becoming too sensitive to the initialization of the weights and the order of the training data.\"\n",
        "\n",
        "Pytorch documentation - https://pytorch.org/docs/stable/generated/torch.nn.BatchNorm1d.html#torch.nn.BatchNorm1d"
      ]
    },
    {
      "cell_type": "markdown",
      "id": "pv1ChQAeUBoQ",
      "metadata": {
        "id": "pv1ChQAeUBoQ"
      },
      "source": [
        "<font size='4' color='Red'>Task 3.14 Adding Batch Normalization (1 point)</font>\n",
        "\n",
        "In the previous tasks, our model with a hidden dimension of 32 didn't deliver the desired performance. To address this, let's incorporate Batch Normalization into that architecture and assess whether it can enhance its performance.\n",
        "\n",
        "Read documentation - https://pytorch.org/docs/stable/generated/torch.nn.BatchNorm1d.html"
      ]
    },
    {
      "cell_type": "code",
      "execution_count": null,
      "id": "6sx33jmSXJ-o",
      "metadata": {
        "id": "6sx33jmSXJ-o"
      },
      "outputs": [],
      "source": [
        "torch.manual_seed(7150)# (Leave it here for deterministic behavior and easier grading)\n",
        "################################################################################\n",
        "# TODO: Let's create a neural network with following architecture:\n",
        "# Hidden Dimension - 32\n",
        "# Loss - Binary Cross Entropy\n",
        "# Optimizer - Adam (lr = 0.01, weight_decay=1e-3)\n",
        "# Network Architecture - (Linear + ReLU + batch_normalization) ->\n",
        "# (Linear + ReLU) -> (Linear + ReLU) -> (Linear + ReLU) ->\n",
        "# (Linear + ReLU + batch_normalization) -> (Linear + Sigmoid)\n",
        "################################################################################\n",
        "\n",
        "raise NotImplementedError\n",
        "\n",
        "###########################################################################\n",
        "#                             END OF YOUR CODE                            #\n",
        "###########################################################################"
      ]
    },
    {
      "cell_type": "markdown",
      "id": "Jy_YOZm1YAbw",
      "metadata": {
        "id": "Jy_YOZm1YAbw"
      },
      "source": [
        "<font size='4'>**E) Residual Networks**</font>\n",
        "\n",
        "Residual Networks (ResNets) are a type of deep neural network that are designed to address the problem of vanishing gradients."
      ]
    },
    {
      "cell_type": "markdown",
      "id": "hGQveZgVU2K9",
      "metadata": {
        "id": "hGQveZgVU2K9"
      },
      "source": [
        "<font size='4' color='Red'>Task 3.15 - Modifiy the code below so that that `ResidualSequence` does not just implement `y = f(x)` but instead implements `y = f(x) + x`.  The template code has a bug and only implement `y=x`. (1 point)</font>"
      ]
    },
    {
      "cell_type": "code",
      "execution_count": null,
      "id": "VqeqI1MBBlUJ",
      "metadata": {
        "id": "VqeqI1MBBlUJ"
      },
      "outputs": [],
      "source": [
        "################################################################################\n",
        "# TODO: Correct the below code to get f(x) + x as output\n",
        "################################################################################\n",
        "class ResidualSequence(Sequential):\n",
        "    def forward(self, x):\n",
        "        side_result = super().forward(x)\n",
        "        final_result=x\n",
        "        return final_result\n",
        "################################################################################\n",
        "#                             END OF YOUR CODE                                 #\n",
        "################################################################################"
      ]
    },
    {
      "cell_type": "markdown",
      "id": "aoffvEEYVdD2",
      "metadata": {
        "id": "aoffvEEYVdD2"
      },
      "source": [
        "<font size='4'>**Example of Residual Block Architecture**</font>\n",
        "\n",
        "```\n",
        "torch.nn.Sequential(\n",
        "    nn.Linear(train_data.size(1), hidden_dims),\n",
        "    ResidualSequence(\n",
        "        nn.ReLU(),\n",
        "        nn.Linear(hidden_dims, fan_out_dims),\n",
        "        nn.ReLU(),\n",
        "        nn.Linear(fan_out_dims, hidden_dims),\n",
        "    ),\n",
        "    nn.Linear(hidden_dims, 1),\n",
        "    nn.Sigmoid()\n",
        ")\n",
        "```\n"
      ]
    },
    {
      "cell_type": "markdown",
      "id": "YvdYH6DgTcHt",
      "metadata": {
        "id": "YvdYH6DgTcHt"
      },
      "source": [
        "<font size='4' color='Red'>Task 3.16 - Implement Residual blocks in a Neural Network architecture (2 point)</font>\n",
        "\n",
        "Design a neural network with four Residual blocks, each composed according to the specifications outlined below."
      ]
    },
    {
      "cell_type": "code",
      "execution_count": null,
      "id": "b9f39252",
      "metadata": {
        "id": "b9f39252"
      },
      "outputs": [],
      "source": [
        "torch.manual_seed(7150)# (Leave it here for deterministic behavior and easier grading)\n",
        "#############################################################################\n",
        "# TODO: In this task, we will configure a neural network consisting of four\n",
        "# residual blocks\n",
        "# Hidden Dimension = 16\n",
        "# fan_out_dims = 32\n",
        "# Loss - Binary Cross Entropy\n",
        "# Optimizer - Adam- (lr=0.01, weight_decay=1e-3)\n",
        "# Residual Block - [ReLU → Linear → ReLU → Linear]\n",
        "# Network Architecture - Linear -> Residual Block -> Residual Block ->\n",
        "# Residual Block -> Residual Block -> (Linear + Sigmoid)\n",
        "#############################################################################\n",
        "\n",
        "raise NotImplementedError\n",
        "\n",
        "###########################################################################\n",
        "#                             END OF YOUR CODE                            #\n",
        "###########################################################################"
      ]
    },
    {
      "cell_type": "markdown",
      "id": "vqvQBJ70274f",
      "metadata": {
        "id": "vqvQBJ70274f"
      },
      "source": [
        "<font size='4' color='Red'>Task 3.17 - Reducing Residual Blocks (2 points)</font>\n",
        "\n",
        "Let's decrease the number of Residual Blocks and observe whether it has any impact on our performance."
      ]
    },
    {
      "cell_type": "code",
      "execution_count": null,
      "id": "PoKUcI9u3ey4",
      "metadata": {
        "id": "PoKUcI9u3ey4"
      },
      "outputs": [],
      "source": [
        "torch.manual_seed(7150)# (Leave it here for deterministic behavior and easier grading)\n",
        "hidden_dims = None\n",
        "fan_out_dims = None\n",
        "################################################################################\n",
        "# TODO: In this task, we will configure a neural network consisting of two\n",
        "# residual blocks\n",
        "# Hidden Dimension = 16\n",
        "# fan_out_dims = 32\n",
        "# Loss - Binary Cross Entropy\n",
        "# Optimizer - Adam - (lr=0.01, weight_decay=1e-3)\n",
        "# Residual Block - [ReLU → Linear → ReLU → Linear]\n",
        "# Network Architecture - Linear -> Residual Block -> Residual Block ->\n",
        "# (Linear + Sigmoid)\n",
        "################################################################################\n",
        "\n",
        "raise NotImplementedError\n",
        "\n",
        "###########################################################################\n",
        "#                             END OF YOUR CODE                            #\n",
        "###########################################################################"
      ]
    },
    {
      "cell_type": "markdown",
      "id": "kLZDNPS14DUF",
      "metadata": {
        "id": "kLZDNPS14DUF"
      },
      "source": [
        "<font size='4' color='Red'>Task 3.18 Develop a Neural Network with a combination of BatchNorm and Residual Blocks (3 points)</font>\n",
        "\n",
        "The synergy of these two components often results in improved model performance because BatchNorm stabilizes activations and enables the use of deeper networks, while Residual connections facilitate the training of deep networks and prevent degradation in performance. Together, they can enhance the model's ability to learn intricate patterns and improve its generalization to unseen data. However, it's important to strike a balance and avoid overly complex models, as they may lead to overfitting if not properly regularized.\n",
        "\n",
        "We will create a neural network incorporating both Batch Normalization and Residual Blocks to evaluate if we can achieve favorable outcomes."
      ]
    },
    {
      "cell_type": "code",
      "execution_count": null,
      "id": "w-y9gsE_4NXZ",
      "metadata": {
        "id": "w-y9gsE_4NXZ"
      },
      "outputs": [],
      "source": [
        "torch.manual_seed(7150)# (Leave it here for deterministic behavior and easier grading)\n",
        "\n",
        "#############################################################################\n",
        "# TODO: In this task, we will configure a neural network consisting of two\n",
        "# residual blocks,\n",
        "# Hidden Dimension - 16\n",
        "# fan_out_dims = 32\n",
        "# Loss - Binary Cross Entropy\n",
        "# Optimizer - Adam - (lr = 0.01, weight_decay=1e-3)\n",
        "# Residual Block - [Batch_Norm -> Linear → ReLU → Linear]\n",
        "# Network Architecture - Linear -> Residual Block -> Residual Block ->\n",
        "# (Batch_Norm + Linear + Sigmoid)\n",
        "#############################################################################\n",
        "\n",
        "raise NotImplementedError\n",
        "\n",
        "###########################################################################\n",
        "#                             END OF YOUR CODE                            #\n",
        "###########################################################################"
      ]
    },
    {
      "cell_type": "markdown",
      "id": "K36AJrhu5Tk4",
      "metadata": {
        "id": "K36AJrhu5Tk4"
      },
      "source": [
        "<font size='4' color='Red'>Task 3.19 - Develop a neural network that incorporates Batch Normalization, Residual connections, and an increased number of layers. (3 points)</font>\n",
        "\n",
        "We will construct a neural network with 6 residual blocks to assess whether we can further enhance performance by increasing its depth."
      ]
    },
    {
      "cell_type": "code",
      "execution_count": null,
      "id": "j2XKznAk5iug",
      "metadata": {
        "id": "j2XKznAk5iug"
      },
      "outputs": [],
      "source": [
        "torch.manual_seed(7150)# (Leave it here for deterministic behavior and easier grading)\n",
        "################################################################################\n",
        "# TODO: In this task, we will configure a neural network consisting of two\n",
        "# residual blocks.\n",
        "# Hidden Dimension - 16\n",
        "# fan_out_dims = 32\n",
        "# Loss - Binary Cross Entropy\n",
        "# Optimizer - Adam - (lr = 0.01, weight_decay=1e-3)\n",
        "# Residual Block - [Batch_Norm -> Linear → ReLU → Linear]\n",
        "# Network Architecture - Linear -> Residual Block -> Residual Block ->\n",
        "# Residual Block -> Residual Block -> Residual Block -> Residual Block\n",
        "# -> (Batch_Norm + Linear + Sigmoid)\n",
        "################################################################################\n",
        "\n",
        "raise NotImplementedError\n",
        "\n",
        "################################################################################\n",
        "#                             END OF YOUR CODE                                 #\n",
        "################################################################################"
      ]
    },
    {
      "cell_type": "markdown",
      "id": "cRMMgZHRPYEV",
      "metadata": {
        "id": "cRMMgZHRPYEV"
      },
      "source": [
        "<font size='5'>**Part 4: Weight Initialization**</font>"
      ]
    },
    {
      "cell_type": "markdown",
      "id": "462SzOwvPbpF",
      "metadata": {
        "id": "462SzOwvPbpF"
      },
      "source": [
        "Weight initialization in deep learning refers to the procedure of assigning initial values to a neural network's weights, which are the tunable parameters learned during training. The manner in which these weights are initialized plays a critical role in shaping the training process and ultimately impacts the network's performance. Several weight initialization techniques have been developed to combat challenges such as vanishing or exploding gradients, with the goal of establishing a solid foundation for training deep neural networks. Some of the weight initialization methods are :-\n",
        "\n",
        "1. Zero Weight Initialization\n",
        "2. Random Weight Initialization\n",
        "3. Xavier Initialization (Glorot Initialization)\n",
        "4. He Initialization (often used in deep CNN's)"
      ]
    },
    {
      "cell_type": "markdown",
      "id": "Vz_Pbf_W80y8",
      "metadata": {
        "id": "Vz_Pbf_W80y8"
      },
      "source": [
        "<font size='4'>**1) Zero Initialization**</font>\n",
        "\n",
        "Zero weight initialization initializes a neural network's weights to zero, which can be effective for specific neural network types. This initialization can mitigate overfitting by making it harder for the model to fit training data perfectly.\n",
        "\n",
        "However, it has drawbacks. It hinders learning complex input-output relationships from scratch and makes the model sensitive to hyperparameters like the learning rate. This approach is generally discouraged due to the potential emergence of symmetric neurons and slow convergence as a result of weight symmetry issues."
      ]
    },
    {
      "cell_type": "markdown",
      "id": "XbOL83LOAZ45",
      "metadata": {
        "id": "XbOL83LOAZ45"
      },
      "source": [
        "The code visualizes layer-wise activation distributions in a neural network for a Zero Weight Initialization. It offers insights into the network's learning and can reveal potential issues.\n",
        "\n",
        "<font size='4' color='Red'>Task 4.1 - Initialize zero weights for each layer (_ points)</font>"
      ]
    },
    {
      "cell_type": "code",
      "execution_count": null,
      "id": "wlPj8u-x4uCY",
      "metadata": {
        "id": "wlPj8u-x4uCY"
      },
      "outputs": [],
      "source": [
        "num_layers = 7\n",
        "layer_dims = [2048]*num_layers\n",
        "\n",
        "input_data = np.random.randn(16, layer_dims[0])\n",
        "\n",
        "activations = []\n",
        "\n",
        "weights = []\n",
        "\n",
        "\n",
        "for i in range(num_layers - 1):\n",
        "\n",
        "    ############################################################################\n",
        "    # TODO - # Initialize zero weights for each layer (except the last one)\n",
        "    # and store it in 'W' varaiable\n",
        "    ############################################################################\n",
        "    W = None\n",
        "    ############################################################################\n",
        "    #                             END OF YOUR CODE                             #\n",
        "    ############################################################################\n",
        "    weights.append(W)\n",
        "\n",
        "# Forward pass through the network\n",
        "for i in range(num_layers):\n",
        "    W = weights[i] if i < num_layers - 1 else None\n",
        "    layer_input = input_data if i == 0 else activations[i - 1]\n",
        "    if W is not None:\n",
        "        layer_output = np.tanh(np.dot(layer_input, W))\n",
        "    else:\n",
        "        layer_output = layer_input\n",
        "    activations.append(layer_output)\n",
        "\n",
        "# Create a figure with subplots for each layer's activation distribution\n",
        "fig, axes = plt.subplots(num_layers, 1, figsize=(8, 12))\n",
        "\n",
        "x_axis = np.arange(-1, 1, 0.01)\n",
        "\n",
        "for i in range(num_layers):\n",
        "    ax = axes[i]\n",
        "    ax.hist(activations[i].flatten(), bins=100, density=True, alpha=0.7, color='blue', label=f'Layer {i+1} Activations')\n",
        "    ax.plot(x_axis, norm.pdf(x_axis, 0, 1), color='red', linestyle='--', label='Standard Normal')\n",
        "    ax.set_title(f'Layer {i+1}')\n",
        "    ax.legend()\n",
        "\n",
        "plt.tight_layout()\n",
        "plt.show()"
      ]
    },
    {
      "cell_type": "markdown",
      "id": "X7ds35hlCLWi",
      "metadata": {
        "id": "X7ds35hlCLWi"
      },
      "source": [
        "<font size='4' color='red'>**4.A) Inline Question (2 points):** Have you noticed any of the drawbacks in the results mentioned earlier? If so, please highlight your observations.</font>  "
      ]
    },
    {
      "cell_type": "markdown",
      "id": "QzgqHyRfC0wF",
      "metadata": {
        "id": "QzgqHyRfC0wF"
      },
      "source": [
        "Answer"
      ]
    },
    {
      "cell_type": "markdown",
      "id": "IIFVLjmyQGeN",
      "metadata": {
        "id": "IIFVLjmyQGeN"
      },
      "source": [
        "<font size='4'>**2. Random Weight Initialization**</font>\n",
        "\n",
        "Random Weight Initialization in deep learning sets the initial weights of a neural network to random values, drawn from a distribution. It's simple and encourages diverse starting points for training, breaking symmetry among neurons. However, it can lead to vanishing/exploding gradients in deep networks, making it less effective for them. It's sensitive to initialization values and lacks control compared to specialized methods like Xavier or He initialization."
      ]
    },
    {
      "cell_type": "markdown",
      "id": "b4Uo270RR1e9",
      "metadata": {
        "id": "b4Uo270RR1e9"
      },
      "source": [
        "<font size='4' color='Red'>Task 4.2 Initialize Random weights for each layer (_ points)</font>\n",
        "\n",
        "The below code visualizes layer-wise activation distributions for a Random Weight Initialization in a neural network. It offers insights into the network's learning and can reveal potential issues."
      ]
    },
    {
      "cell_type": "code",
      "execution_count": null,
      "id": "eKGLAG0sOk_Y",
      "metadata": {
        "id": "eKGLAG0sOk_Y"
      },
      "outputs": [],
      "source": [
        "# Define the number of layers and their dimensions\n",
        "num_layers = 7\n",
        "layer_dims = [2048]*num_layers\n",
        "\n",
        "input_data = np.random.randn(16, layer_dims[0])\n",
        "\n",
        "activations = []\n",
        "\n",
        "weights = []\n",
        "\n",
        "\n",
        "for i in range(num_layers - 1):\n",
        "\n",
        "    ############################################################################\n",
        "    # TODO - # Initialize random weights for each layer (except the last one)\n",
        "    # and the store value in 'W' variable\n",
        "    ############################################################################\n",
        "    W=None\n",
        "    ############################################################################\n",
        "    #                             END OF YOUR CODE                             #\n",
        "    ############################################################################\n",
        "    weights.append(W*0.01)\n",
        "\n",
        "# Forward pass through the network\n",
        "for i in range(num_layers):\n",
        "    W = weights[i] if i < num_layers - 1 else None\n",
        "    layer_input = input_data if i == 0 else activations[i - 1]\n",
        "    if W is not None:\n",
        "        layer_output = np.tanh(np.dot(layer_input, W))\n",
        "    else:\n",
        "        layer_output = layer_input\n",
        "    activations.append(layer_output)\n",
        "\n",
        "# Create a figure with subplots for each layer's activation distribution\n",
        "fig, axes = plt.subplots(num_layers, 1, figsize=(8, 12))\n",
        "\n",
        "x_axis = np.arange(-1, 1, 0.01)\n",
        "\n",
        "for i in range(num_layers):\n",
        "    ax = axes[i]\n",
        "    ax.hist(activations[i].flatten(), bins=100, density=True, alpha=0.7, color='blue', label=f'Layer {i+1} Activations')\n",
        "    ax.plot(x_axis, norm.pdf(x_axis, 0, 1), color='red', linestyle='--', label='Standard Normal')\n",
        "    ax.set_title(f'Layer {i+1}')\n",
        "    ax.legend()\n",
        "\n",
        "plt.tight_layout()\n",
        "plt.show()"
      ]
    },
    {
      "cell_type": "markdown",
      "id": "dz8fgyYNE_XE",
      "metadata": {
        "id": "dz8fgyYNE_XE"
      },
      "source": [
        "<font size='4' color='red'>**4.B) Inline Question (2 points):** We can see all the activations tend to zero for deeper network layers. what can be expected regarding the gradients dL/dW, and is there still potential for learning?</font>  "
      ]
    },
    {
      "cell_type": "markdown",
      "id": "is_XFlZ4N9li",
      "metadata": {
        "id": "is_XFlZ4N9li"
      },
      "source": [
        "Answer"
      ]
    },
    {
      "cell_type": "markdown",
      "id": "uXKaw5T6ULvu",
      "metadata": {
        "id": "uXKaw5T6ULvu"
      },
      "source": [
        "I can hear you all say try increasing weights which might resolve the issue. So, let's proceed by multiplying our weights by a factor of 5 and see if it helps.\n",
        "\n",
        "<font size='4' color='Red'>Task 4.3 - Initialize large Random weights for each layer (_ points)</font>"
      ]
    },
    {
      "cell_type": "code",
      "execution_count": null,
      "id": "QEha9BgXUQtk",
      "metadata": {
        "id": "QEha9BgXUQtk"
      },
      "outputs": [],
      "source": [
        "num_layers = 7\n",
        "layer_dims = [2048]*num_layers\n",
        "\n",
        "input_data = np.random.randn(16, layer_dims[0])\n",
        "\n",
        "activations = []\n",
        "\n",
        "weights = []\n",
        "\n",
        "\n",
        "for i in range(num_layers - 1):\n",
        "\n",
        "    ############################################################################\n",
        "    # TODO - # Initialize random weights for each layer similar to the last\n",
        "    # task but here you scale them up by a factor of 5\n",
        "    ############################################################################\n",
        "    W = None\n",
        "    ############################################################################\n",
        "    #                             END OF YOUR CODE                             #\n",
        "    ############################################################################\n",
        "\n",
        "    weights.append(W*0.01)\n",
        "\n",
        "# Forward pass through the network\n",
        "for i in range(num_layers):\n",
        "    W = weights[i] if i < num_layers - 1 else None\n",
        "    layer_input = input_data if i == 0 else activations[i - 1]\n",
        "    if W is not None:\n",
        "        layer_output = np.tanh(np.dot(layer_input, W))\n",
        "    else:\n",
        "        layer_output = layer_input\n",
        "    activations.append(layer_output)\n",
        "\n",
        "# Create a figure with subplots for each layer's activation distribution\n",
        "fig, axes = plt.subplots(num_layers, 1, figsize=(8, 12))\n",
        "\n",
        "x_axis = np.arange(-1, 1, 0.01)\n",
        "\n",
        "for i in range(num_layers):\n",
        "    ax = axes[i]\n",
        "    ax.hist(activations[i].flatten(), bins=100, density=True, alpha=0.7, color='blue', label=f'Layer {i+1} Activations')\n",
        "    ax.plot(x_axis, norm.pdf(x_axis, 0, 1), color='red', linestyle='--', label='Standard Normal')\n",
        "    ax.set_title(f'Layer {i+1}')\n",
        "    ax.legend()\n",
        "\n",
        "plt.tight_layout()\n",
        "plt.show()"
      ]
    },
    {
      "cell_type": "markdown",
      "id": "yGsWlxwXp-Kd",
      "metadata": {
        "id": "yGsWlxwXp-Kd"
      },
      "source": [
        "<font size='4' color='red'>**4.C) Inline Question (2 points):**All activations saturate due to big weights. What can be expected regarding the gradients dL/dW, and is there still potential for learning?</font>  "
      ]
    },
    {
      "cell_type": "markdown",
      "id": "l0JMbmK6R4wO",
      "metadata": {
        "id": "l0JMbmK6R4wO"
      },
      "source": [
        "Answer"
      ]
    },
    {
      "cell_type": "markdown",
      "id": "woHhwkC9Uatl",
      "metadata": {
        "id": "woHhwkC9Uatl"
      },
      "source": [
        "<font size='4'>**3. Xavier Initialization**</font>\n",
        "\n",
        "Xavier Initialization, also called Glorot Initialization, is a weight initialization method for deep neural networks. It sets initial weights to prevent vanishing and exploding gradients by controlling the variance of activations.This technique stabilizes training and is widely used in practice.\n",
        "\n",
        "The weights are initialized from a Gaussian distribution with a mean of 0 and a variance of (1/$n_{in}$) :-\n",
        "\n",
        "\n",
        "\\begin{equation}\n",
        "\\mathbf{W} = \\mathcal{N}\\left(0, \\frac{1}{n_\\text{in}}\\right)\n",
        "\\end{equation}\n"
      ]
    },
    {
      "cell_type": "markdown",
      "id": "k-tEtJNVb9I8",
      "metadata": {
        "id": "k-tEtJNVb9I8"
      },
      "source": [
        "The below code visualizes layer-wise activation distributions for a Xavier Weight Initialization in a neural network. It offers insights into the network's learning and can reveal potential issues.\n",
        "\n",
        "\n",
        "<font size='4' color='Red'>Task 4.4 - Initialize weights using Xavier method for each layer (1 point)</font>"
      ]
    },
    {
      "cell_type": "code",
      "execution_count": null,
      "id": "45S4hcaSUzat",
      "metadata": {
        "id": "45S4hcaSUzat"
      },
      "outputs": [],
      "source": [
        "num_layers = 7\n",
        "layer_dims = [2048]*num_layers\n",
        "\n",
        "input_data = np.random.randn(16, layer_dims[0])\n",
        "activations = []\n",
        "weights = []\n",
        "\n",
        "\n",
        "for i in range(num_layers - 1):\n",
        "\n",
        "    ############################################################################\n",
        "    # TODO - Initialize weights using Xavier method for each layer (except the\n",
        "    # last one) and store in variable 'W'\n",
        "    ############################################################################\n",
        "    W= None\n",
        "    ############################################################################\n",
        "    #                             END OF YOUR CODE                             #\n",
        "    ############################################################################\n",
        "    weights.append(W)\n",
        "\n",
        "# Forward pass through the network\n",
        "for i in range(num_layers):\n",
        "    W = weights[i] if i < num_layers - 1 else None\n",
        "    layer_input = input_data if i == 0 else activations[i - 1]\n",
        "    if W is not None:\n",
        "        layer_output = np.tanh(np.dot(layer_input, W))\n",
        "    else:\n",
        "        layer_output = layer_input\n",
        "    activations.append(layer_output)\n",
        "\n",
        "# Create a figure with subplots for each layer's activation distribution\n",
        "fig, axes = plt.subplots(num_layers, 1, figsize=(8, 12))\n",
        "\n",
        "x_axis = np.arange(-1, 1, 0.01)\n",
        "\n",
        "for i in range(num_layers):\n",
        "    ax = axes[i]\n",
        "    ax.hist(activations[i].flatten(), bins=100, density=True, alpha=0.7, color='blue', label=f'Layer {i+1} Activations')\n",
        "    ax.plot(x_axis, norm.pdf(x_axis, 0, 1), color='red', linestyle='--', label='Standard Normal')\n",
        "    ax.set_title(f'Layer {i+1}')\n",
        "    ax.legend()\n",
        "\n",
        "plt.tight_layout()\n",
        "plt.show()\n"
      ]
    },
    {
      "cell_type": "markdown",
      "id": "S_I77IN1ZD_f",
      "metadata": {
        "id": "S_I77IN1ZD_f"
      },
      "source": [
        "<font size='4'>**4. He/ MSRA Initialization**</font>\n",
        "\n",
        "It is a weight initialization technique commonly used in deep neural networks. It is designed to address the vanishing gradient problem and is particularly effective when Rectified Linear Unit (ReLU) activation functions are used.\n",
        "\n",
        "For a layer with $n_{in}$ input units, He Initialization initializes the weights by sampling them from a Gaussian distribution with a mean of 0 and a variance of 2 / $n_{in}$. The choice of variance (2) is specific to the ReLU activation function and ensures that the weights are set to values that allow ReLU units to activate in a desirable range.\n",
        "\n",
        "The formula for He Initialization can be expressed as follows:\n",
        "\n",
        "\\begin{equation}\n",
        "\\mathbf{W} = \\mathcal{N}\\left(0, \\frac{2}{n_\\text{in}}\\right)\n",
        "\\end{equation}\n"
      ]
    },
    {
      "cell_type": "markdown",
      "id": "pmvprA2JiQGF",
      "metadata": {
        "id": "pmvprA2JiQGF"
      },
      "source": [
        "The below code visualizes layer-wise activation distributions for a HE/ MSRA Weight Initialization in a neural network. It offers insights into the network's learning and can reveal potential issues.\n",
        "\n",
        "\n",
        "<font size='4' color='Red'>Task 4.5- Initialize weights using Kaiming He's method for each layer (1 point)</font>"
      ]
    },
    {
      "cell_type": "code",
      "execution_count": null,
      "id": "bCEuRjU-ZImD",
      "metadata": {
        "id": "bCEuRjU-ZImD"
      },
      "outputs": [],
      "source": [
        "num_layers = 7\n",
        "layer_dims = [2048]*num_layers\n",
        "\n",
        "input_data = np.random.randn(16, layer_dims[0])\n",
        "\n",
        "activations = []\n",
        "\n",
        "weights = []\n",
        "\n",
        "for i in range(num_layers - 1):\n",
        "\n",
        "    ############################################################################\n",
        "    # TODO - Initialize weights using He method for each layer (except the\n",
        "    # last one) and store in variable 'W'\n",
        "    ############################################################################\n",
        "    W= None\n",
        "    ############################################################################\n",
        "    #                             END OF YOUR CODE                             #\n",
        "    ############################################################################\n",
        "    weights.append(W)\n",
        "\n",
        "# Forward pass through the network\n",
        "for i in range(num_layers):\n",
        "    W = weights[i] if i < num_layers - 1 else None\n",
        "    layer_input = input_data if i == 0 else activations[i - 1]\n",
        "    if W is not None:\n",
        "        layer_output = np.maximum(0, layer_input.dot(W))\n",
        "    else:\n",
        "        layer_output = layer_input\n",
        "    activations.append(layer_output)\n",
        "\n",
        "# Create a figure with subplots for each layer's activation distribution\n",
        "fig, axes = plt.subplots(num_layers, 1, figsize=(8, 12))\n",
        "\n",
        "x_axis = np.arange(-1, 1, 0.01)\n",
        "\n",
        "for i in range(num_layers):\n",
        "    ax = axes[i]\n",
        "    ax.hist(activations[i].flatten(), bins=100, density=True, alpha=0.7, color='blue', label=f'Layer {i+1} Activations')\n",
        "    ax.plot(x_axis, norm.pdf(x_axis, 0, 1), color='red', linestyle='--', label='Standard Normal')\n",
        "    ax.set_title(f'Layer {i+1}')\n",
        "    ax.legend()\n",
        "\n",
        "plt.tight_layout()\n",
        "plt.show()\n"
      ]
    },
    {
      "cell_type": "markdown",
      "id": "CvRw4T3QuAZU",
      "metadata": {
        "id": "CvRw4T3QuAZU"
      },
      "source": [
        "### <font size='4'>**5. Custom Weight Initialization in Pytorch**</font>\n",
        "\n",
        "Custom weight initialization in PyTorch involves setting the weights of a neural network to user-defined values. This can serve different purposes, including enhancing model performance or preventing overfitting.\n",
        "\n",
        "In PyTorch, you can achieve custom weight initialization using the init module, which offers various weight initialization techniques like normal_, uniform_, and kaiming_normal_.\n",
        "\n",
        "Read Documentation for more information - https://pytorch.org/docs/stable/nn.init.html\n",
        "\n"
      ]
    },
    {
      "cell_type": "markdown",
      "id": "4FLOujSxuIZg",
      "metadata": {
        "id": "4FLOujSxuIZg"
      },
      "source": [
        "<font size='4'>**An illustration of custom weight initialization for a neural network model using values sampled from a normal distribution.**</font>\n",
        "\n",
        "```\n",
        "class CustomModel(nn.Module):\n",
        "    def __init__(self):\n",
        "        super(CustomModel, self).__init__()\n",
        "        self.fc1 = nn.Linear(64, 32)\n",
        "        self.fc2 = nn.Linear(32, 10)\n",
        "\n",
        "        self.initialize_weights()\n",
        "\n",
        "    #Initialize weights with values from a normal distribution\n",
        "    def initialize_weights(self):\n",
        "        nn.init.normal_(self.fc1.weight, mean=0, std=0.01)\n",
        "        nn.init.normal_(self.fc2.weight, mean=0, std=0.01)\n",
        "        \n",
        "    def forward(self, x):\n",
        "        pass\n",
        "\n",
        "model = CustomModel()\n",
        "\n",
        "for name, param in model.named_parameters():\n",
        "    if param.requires_grad:\n",
        "        print(f'Parameter name: {name}')\n",
        "        print(param.data)\n",
        "\n",
        "```"
      ]
    },
    {
      "cell_type": "markdown",
      "id": "pNknZRMfj1Li",
      "metadata": {
        "id": "pNknZRMfj1Li"
      },
      "source": [
        "<font size='4' color='Red'>Task 4.6 - Create a class called `Supervise_random_weights` that defines weight using Random Weight Initialization method. (1 point)</font>\n"
      ]
    },
    {
      "cell_type": "code",
      "execution_count": null,
      "id": "-BNTA7uzl6NP",
      "metadata": {
        "id": "-BNTA7uzl6NP"
      },
      "outputs": [],
      "source": [
        "class Supervise_random_weights(nn.Module):\n",
        "    def __init__(self, criterion, net):\n",
        "        super().__init__()\n",
        "        self.net = net\n",
        "        self.criterion = criterion\n",
        "\n",
        "\n",
        "        for module in self.net.modules():\n",
        "            if isinstance(module, nn.Linear):\n",
        "                ################################################################\n",
        "                # TODO: Set the weights to random values from a normal\n",
        "                # distribution with a mean of 0 and a standard deviation of 0.01\n",
        "                ################################################################\n",
        "                raise NotImplementedError\n",
        "                ################################################################\n",
        "                #                       END OF YOUR CODE                       #\n",
        "                ################################################################\n",
        "\n",
        "    def forward(self, x, y):\n",
        "        out = self.net(x).squeeze()\n",
        "        return self.criterion(out, y)\n"
      ]
    },
    {
      "cell_type": "markdown",
      "id": "KmS7dGvPrlFW",
      "metadata": {
        "id": "KmS7dGvPrlFW"
      },
      "source": [
        "<font size='4' color='Red'>Task 4.7 - Build a Neural Network architecture as instructed below using the `Supervise_random_weights` class which defines weight Randomly with a mean =0 and std = 0.01 (2 points)</font>\n"
      ]
    },
    {
      "cell_type": "code",
      "execution_count": null,
      "id": "WS3pr7RjpzAp",
      "metadata": {
        "id": "WS3pr7RjpzAp"
      },
      "outputs": [],
      "source": [
        "torch.manual_seed(7150)\n",
        "################################################################################\n",
        "# TODO: In this task, we will configure a neural network with Supervise_random_weights\n",
        "# Hidden Dimension = 32\n",
        "# Loss - Binary Cross Entropy\n",
        "# Optimizer - Adam - (lr=0.01, weight_decay=1e-3)\n",
        "# Network Architecture - (Linear + ReLU)-> (Linear + ReLU)->(Linear + ReLU)->\n",
        "# (Linear + ReLU)->(Linear + ReLU)->(Linear + Sigmoid)\n",
        "################################################################################\n",
        "\n",
        "raise NotImplementedError\n",
        "\n",
        "################################################################################\n",
        "#                             END OF YOUR CODE                                 #\n",
        "################################################################################"
      ]
    },
    {
      "cell_type": "markdown",
      "id": "8M2-0lkXqRDS",
      "metadata": {
        "id": "8M2-0lkXqRDS"
      },
      "source": [
        "<font size='4' color='Red'>Task 4.8 - Create a class called `Supervise_Kaiming_weights` that defines weight using Kaiming He's Weight Initialization method. (1 point)</font>\n"
      ]
    },
    {
      "cell_type": "code",
      "execution_count": null,
      "id": "CFUIDVONqM5B",
      "metadata": {
        "id": "CFUIDVONqM5B"
      },
      "outputs": [],
      "source": [
        "class Supervise_Kaiming_weights(nn.Module):\n",
        "    def __init__(self, criterion, net):\n",
        "        super().__init__()\n",
        "        self.net = net\n",
        "        self.criterion = criterion\n",
        "\n",
        "        for module in self.net.modules():\n",
        "            if isinstance(module, nn.Linear):\n",
        "                ################################################################\n",
        "                # TODO: Set the weights using He initialization\n",
        "                # [Hint: Python's torch.nn.init.kaiming would be useful]\n",
        "                ################################################################\n",
        "                raise NotImplementedError\n",
        "                ################################################################\n",
        "                #                       END OF YOUR CODE                       #\n",
        "                ################################################################\n",
        "\n",
        "    def forward(self, x, y):\n",
        "        out = self.net(x).squeeze()\n",
        "        return self.criterion(out, y)\n"
      ]
    },
    {
      "cell_type": "markdown",
      "id": "xaRRhLo7rFwt",
      "metadata": {
        "id": "xaRRhLo7rFwt"
      },
      "source": [
        "<font size='4' color='Red'>Task 4.9 - Build a Neural Network architecture as instructed below using the `Supervise_Kaiming_weights` class (2 points)</font>\n"
      ]
    },
    {
      "cell_type": "code",
      "execution_count": null,
      "id": "flOxeeMlrFKA",
      "metadata": {
        "id": "flOxeeMlrFKA"
      },
      "outputs": [],
      "source": [
        "torch.manual_seed(7150)\n",
        "################################################################################\n",
        "# TODO: In this task, we will configure a neural network with Supervise_He_weights\n",
        "# Hidden Dimension = 32\n",
        "# Loss - Binary Cross Entropy\n",
        "# Optimizer - Adam - (lr=0.01, weight_decay=1e-3)\n",
        "# Network Architecture - (Linear + ReLU)-> (Linear + ReLU)->(Linear + ReLU)->\n",
        "# (Linear + ReLU)->(Linear + ReLU)->(Linear + Sigmoid)\n",
        "################################################################################\n",
        "\n",
        "raise NotImplementedError\n",
        "\n",
        "############################################################################\n",
        "#                             END OF YOUR CODE                             #\n",
        "############################################################################"
      ]
    },
    {
      "cell_type": "markdown",
      "id": "PwLEuhZxr4qf",
      "metadata": {
        "id": "PwLEuhZxr4qf"
      },
      "source": [
        "**Note** - Any idea how does pytorch initialize weights and biases for a layer by default ? Read this discussion - https://discuss.pytorch.org/t/how-are-layer-weights-and-biases-initialized-by-default/13073"
      ]
    },
    {
      "cell_type": "markdown",
      "id": "whTm882GwPLp",
      "metadata": {
        "id": "whTm882GwPLp"
      },
      "source": [
        "## <font size='5'>**Extra Credit Questions**</font>"
      ]
    },
    {
      "cell_type": "markdown",
      "id": "fiFyXcBIvThZ",
      "metadata": {
        "id": "fiFyXcBIvThZ"
      },
      "source": [
        "<font size='4' color='cyan'>**Extra Credit Question 1:** (2 points)\n",
        "\n",
        "Now try to train a network to classify the data in the file `hard-classification.npz`.  This classification problem is very similar to the original one in `tiny-classification.npz`, with inputs that have a very similar structure.  And yet the problem is harder to learn: do the same training techniques work, or is some other approach necessary?  Hint: consider transfer learning or fine-tuning approaches</font>\n"
      ]
    },
    {
      "cell_type": "markdown",
      "id": "awkA6vgVwI9b",
      "metadata": {
        "id": "awkA6vgVwI9b"
      },
      "source": [
        "$$ \\fbox{Answer: _______________}$$"
      ]
    },
    {
      "cell_type": "code",
      "execution_count": null,
      "id": "38904322",
      "metadata": {
        "id": "38904322"
      },
      "outputs": [],
      "source": []
    },
    {
      "cell_type": "markdown",
      "id": "miorbotBuox6",
      "metadata": {
        "id": "miorbotBuox6"
      },
      "source": [
        "<font size='4' color='cyan'>**Extra Credit Question 2:** (4 points)\n",
        "\n",
        "One of the most serious drawbacks of deep networks is that, even if they can learn to solve a problem and recognize patterns in the data, they might not give us humans much insight about those solutions.  But if we can create a network that solves a problem, it should be possible to understand that solution. As extra credit, figure out: what classification rule did the neural network learn in the above exercises when the network achieves 100% hold-out accuracy?  Can you extract from the network a succinct set of rules that it implements, for example, can you decompile the network into a short python program, that can correctly assign a class to a sample?</font>"
      ]
    },
    {
      "cell_type": "markdown",
      "id": "ISqHqxikvSRw",
      "metadata": {
        "id": "ISqHqxikvSRw"
      },
      "source": [
        "$$ \\fbox{Answer: _______________}$$"
      ]
    },
    {
      "cell_type": "code",
      "execution_count": null,
      "id": "329cad9a",
      "metadata": {
        "id": "329cad9a"
      },
      "outputs": [],
      "source": []
    }
  ],
  "metadata": {
    "colab": {
      "provenance": []
    },
    "kernelspec": {
      "display_name": "Python 3 (ipykernel)",
      "language": "python",
      "name": "python3"
    },
    "language_info": {
      "codemirror_mode": {
        "name": "ipython",
        "version": 3
      },
      "file_extension": ".py",
      "mimetype": "text/x-python",
      "name": "python",
      "nbconvert_exporter": "python",
      "pygments_lexer": "ipython3",
      "version": "3.10.6"
    }
  },
  "nbformat": 4,
  "nbformat_minor": 5
}